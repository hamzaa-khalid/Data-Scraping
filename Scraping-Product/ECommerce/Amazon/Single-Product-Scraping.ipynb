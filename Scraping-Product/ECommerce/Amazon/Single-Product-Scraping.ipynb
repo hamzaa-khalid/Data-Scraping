{
 "cells": [
  {
   "cell_type": "markdown",
   "metadata": {},
   "source": [
    "## # Importing Libraries"
   ]
  },
  {
   "cell_type": "code",
   "execution_count": 1,
   "metadata": {},
   "outputs": [],
   "source": [
    "from selenium import webdriver\n",
    "from selenium.webdriver.common.keys import Keys\n",
    "from selenium.webdriver.common.by import By\n",
    "from selenium.webdriver.support.ui import WebDriverWait\n",
    "import time\n",
    "import numpy as np\n",
    "import pandas as pd\n",
    "from bs4 import BeautifulSoup\n",
    "import re"
   ]
  },
  {
   "cell_type": "markdown",
   "metadata": {},
   "source": [
    "## Main Script"
   ]
  },
  {
   "cell_type": "code",
   "execution_count": 2,
   "metadata": {},
   "outputs": [
    {
     "name": "stderr",
     "output_type": "stream",
     "text": [
      "<ipython-input-2-6a9942994ac3>:5: DeprecationWarning: use options instead of chrome_options\n",
      "  driver = webdriver.Chrome('C:\\chromedriver_win32\\chromedriver.exe',chrome_options=chrome_options)\n"
     ]
    }
   ],
   "source": [
    "# Driver Settings\n",
    "chrome_options = webdriver.ChromeOptions()\n",
    "chrome_options.add_argument(\"--incognito\")\n",
    "# chrome_options.add_argument(\"--headless\")\n",
    "driver = webdriver.Chrome('C:\\chromedriver_win32\\chromedriver.exe',chrome_options=chrome_options)\n",
    "\n",
    "def amazonScript(lst):\n",
    "    # Creating None Variables\n",
    "    titleV = priceV = overviewV = descriptionV = ratingV = totratingV = numratingV = imageLink = availability = None\n",
    "    df = pd.DataFrame(columns=['Name', 'Price', 'Overview', 'Description', 'Rating', 'TotalRatings', 'Rating Count', 'ImageLink','Availability'])\n",
    "    for i in range(len(lst)):\n",
    "        driver.get(lst[i])\n",
    "        time.sleep(2)\n",
    "        try:\n",
    "            titleWT = driver.find_element_by_xpath(\"//h1[@id='title']\")\n",
    "            titleV = titleWT.text\n",
    "            try:\n",
    "                price = driver.find_element_by_xpath(\"//td[@class='a-span12']\")\n",
    "                priceV = price.text\n",
    "            except:\n",
    "                pass\n",
    "            try:\n",
    "                btn2 = driver.find_element_by_xpath(\"//span[@class='a-expander-prompt']\")\n",
    "                btn2.click()\n",
    "                overview = driver.find_element_by_xpath(\"//div[@id='productOverview_feature_div']\")\n",
    "                overviewStr = \"\".join(overview.text).replace('\\n',' ')\n",
    "                overviewStr = overviewStr.replace('See less','')\n",
    "                overviewV = overviewStr\n",
    "            except:\n",
    "                overview = driver.find_element_by_xpath(\"//div[@id='productOverview_feature_div']\")\n",
    "                print(overview.text)\n",
    "                overviewStr = \"\".join(overview.text).replace('\\n',' ')\n",
    "                overviewStr = overviewStr.replace('See less','')\n",
    "                overviewV = overviewStr\n",
    "            try:\n",
    "                btn = driver.find_element_by_xpath(\"//span[@class='a-expander-prompt']\")\n",
    "                btn.click()\n",
    "                desc = driver.find_element_by_xpath(\"//div[@id='featurebullets_feature_div']\")\n",
    "                descStr = \"\".join(desc.text).replace('\\n',' ')\n",
    "                descStr = descStr.replace('Show less','')\n",
    "                descStr = descStr.replace('About this item','')\n",
    "                descriptionV = descStr\n",
    "            except:\n",
    "                desc = driver.find_element_by_xpath(\"//div[@id='featurebullets_feature_div']\")\n",
    "                descStr = \"\".join(desc.text).replace('\\n',' ')\n",
    "                descriptionV = descStr\n",
    "            rat = driver.find_element_by_xpath(\"//span[@data-hook='rating-out-of-text']\")\n",
    "            ratingV = rat.text\n",
    "            totrat = driver.find_element_by_xpath(\"//div[@data-hook='total-review-count']\")\n",
    "            totratingV = totrat.text\n",
    "            numrat = driver.find_element_by_xpath(\"//div[@class='a-fixed-left-grid a-spacing-none']\")\n",
    "            numratStr = \"\".join(numrat.text).replace('\\n',' ')\n",
    "            numratingV = numratStr\n",
    "            image = driver.find_element_by_xpath(\"//span[@class='a-list-item']//div//img\")\n",
    "            imageLink = image.get_attribute('src')\n",
    "            stock = driver.find_element_by_xpath(\"//div[@id='availability']\")\n",
    "            availability = stock.text\n",
    "\n",
    "            mainList = []\n",
    "            mainList = [titleV, priceV, overviewV, descriptionV, ratingV, totratingV, numratingV, imageLink, availability]\n",
    "            df_length = len(df)\n",
    "            df.loc[df_length] = mainList\n",
    "        except:\n",
    "            pass\n",
    "    return df"
   ]
  },
  {
   "cell_type": "code",
   "execution_count": 3,
   "metadata": {},
   "outputs": [
    {
     "name": "stdout",
     "output_type": "stream",
     "text": [
      "Brand Stilnend\n",
      "Color 100W Macbook pro charger-white\n",
      "Special Feature\n",
      "It can automatically recognize your device and provide the fastest and most efficient output current, Our charger h… See more\n",
      "Power Source DC\n",
      "Compatible Devices\n",
      "Headphones, Tablets, Game Consoles, MacBook Pro 13 inch, MacBook Pro 15 inch, MacBook Pro 16 inch, MacBook Ai… See more\n"
     ]
    }
   ],
   "source": [
    "lst = []\n",
    "f = open(\"amazon.txt\", \"r\")\n",
    "data = f.readlines()\n",
    "for i in data:\n",
    "    lst.append(i)\n",
    "\n",
    "# ---------------------------\n",
    "newdf = amazonScript(lst)\n",
    "newdf"
   ]
  },
  {
   "cell_type": "code",
   "execution_count": null,
   "metadata": {},
   "outputs": [],
   "source": []
  }
 ],
 "metadata": {
  "kernelspec": {
   "display_name": "Python 3",
   "language": "python",
   "name": "python3"
  },
  "language_info": {
   "codemirror_mode": {
    "name": "ipython",
    "version": 3
   },
   "file_extension": ".py",
   "mimetype": "text/x-python",
   "name": "python",
   "nbconvert_exporter": "python",
   "pygments_lexer": "ipython3",
   "version": "3.8.5"
  }
 },
 "nbformat": 4,
 "nbformat_minor": 4
}
