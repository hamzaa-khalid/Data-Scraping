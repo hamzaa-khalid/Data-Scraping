{
 "cells": [
  {
   "cell_type": "markdown",
   "metadata": {},
   "source": [
    "### E-Commerce Scraping (Daraz)"
   ]
  },
  {
   "cell_type": "markdown",
   "metadata": {},
   "source": [
    "##### Importing Libraries"
   ]
  },
  {
   "cell_type": "code",
   "execution_count": 17,
   "metadata": {},
   "outputs": [],
   "source": [
    "from selenium import webdriver\n",
    "from selenium.webdriver.common.keys import Keys\n",
    "from selenium.webdriver.common.by import By\n",
    "from selenium.webdriver.support.ui import WebDriverWait\n",
    "import time\n",
    "import numpy as np\n",
    "import warnings\n",
    "warnings.filterwarnings('ignore')"
   ]
  },
  {
   "cell_type": "markdown",
   "metadata": {},
   "source": [
    "##### Opening Driver & Login"
   ]
  },
  {
   "cell_type": "code",
   "execution_count": 24,
   "metadata": {},
   "outputs": [],
   "source": [
    "chrome_options = webdriver.ChromeOptions()\n",
    "chrome_options.add_argument(\"--incognito\")\n",
    "driver = webdriver.Chrome('C:\\Program Files (x86)\\chromedriver.exe',chrome_options=chrome_options)\n",
    "driver.implicitly_wait(2)\n",
    "driver.maximize_window()\n",
    "\n",
    "driver.get('https://www.daraz.pk/#')\n",
    "time.sleep(5)\n",
    "\n",
    "loginBtn = driver.find_element_by_id('anonLogin')\n",
    "loginBtn.click()\n",
    "time.sleep(5)\n",
    "\n",
    "userText = driver.find_elements_by_xpath(\"//input[@data-meta='Field']\")\n",
    "\n",
    "c = 0\n",
    "l = ['03022514076', 'HK28042000']\n",
    "for i in userText:\n",
    "    i.send_keys(l[c])\n",
    "    time.sleep(3)\n",
    "    c += 1\n",
    "\n",
    "i.send_keys(Keys.RETURN)\n",
    "time.sleep(5)\n",
    "\n",
    "search = driver.find_element_by_xpath(\"//input[@class='search-box__input--O34g']\")\n",
    "search.send_keys('dell laptop')\n",
    "search.send_keys(Keys.RETURN)\n",
    "time.sleep(3)\n",
    "\n",
    "pro = driver.find_element_by_xpath(\"//div[@data-qa-locator='product-item']\")\n",
    "pro.click()\n",
    "time.sleep(2)\n",
    "\n",
    "driver.execute_script(\"window.scrollTo(0,document.body.scrollHeight)\")"
   ]
  },
  {
   "cell_type": "code",
   "execution_count": null,
   "metadata": {},
   "outputs": [],
   "source": []
  }
 ],
 "metadata": {
  "kernelspec": {
   "display_name": "Python 3",
   "language": "python",
   "name": "python3"
  },
  "language_info": {
   "codemirror_mode": {
    "name": "ipython",
    "version": 3
   },
   "file_extension": ".py",
   "mimetype": "text/x-python",
   "name": "python",
   "nbconvert_exporter": "python",
   "pygments_lexer": "ipython3",
   "version": "3.7.6"
  }
 },
 "nbformat": 4,
 "nbformat_minor": 4
}
