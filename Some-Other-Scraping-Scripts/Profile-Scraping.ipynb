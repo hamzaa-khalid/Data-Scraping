{
 "cells": [
  {
   "cell_type": "code",
   "execution_count": 1,
   "metadata": {},
   "outputs": [],
   "source": [
    "from selenium import webdriver\n",
    "from selenium.webdriver.common.keys import Keys\n",
    "from selenium.webdriver.common.by import By\n",
    "from selenium.webdriver.support.ui import WebDriverWait\n",
    "import time\n",
    "import numpy as np"
   ]
  },
  {
   "cell_type": "markdown",
   "metadata": {},
   "source": [
    "# Code"
   ]
  },
  {
   "cell_type": "code",
   "execution_count": 6,
   "metadata": {},
   "outputs": [
    {
     "name": "stderr",
     "output_type": "stream",
     "text": [
      "C:\\Users\\Warm Sky\\anaconda3\\lib\\site-packages\\ipykernel_launcher.py:3: DeprecationWarning: use options instead of chrome_options\n",
      "  This is separate from the ipykernel package so we can avoid doing imports until\n"
     ]
    },
    {
     "name": "stdout",
     "output_type": "stream",
     "text": [
      "--------------------------------------------\n",
      "Image Link:  https://media-exp1.licdn.com/dms/image/C4D03AQENTTxds8VDGQ/profile-displayphoto-shrink_400_400/0/1516620786679?e=1620259200&v=beta&t=DFjEjSa2mugrlqIy_xiVeXXys-MrVxi88cf0sDTaZKM\n",
      "--------------------------------------------\n",
      "Name:  Konain Qurban\n",
      "--------------------------------------------\n",
      "Location:  Pakistan\n",
      "--------------------------------------------\n",
      "Job Title:  Founder & CEO\n",
      "Company Name:  Frontier Technology Institute\n",
      "--------------------------------------------\n",
      "Specialization: \n",
      "Master of Science (M.S.)\n",
      "Applied Math, Corporate Finance\n",
      "From:  Columbia University in the City of New York\n"
     ]
    }
   ],
   "source": [
    "chrome_options = webdriver.ChromeOptions()\n",
    "chrome_options.add_argument(\"--incognito\")\n",
    "driver = webdriver.Chrome('C:\\Program Files (x86)\\chromedriver.exe',chrome_options=chrome_options)\n",
    "driver.implicitly_wait(2)\n",
    "\n",
    "driver.get('https://www.linkedin.com/')\n",
    "time.sleep(5)\n",
    "\n",
    "n = driver.find_element_by_class_name('nav__button-secondary')\n",
    "n.click()\n",
    "time.sleep(5)\n",
    "\n",
    "un = driver.find_element_by_id('username')\n",
    "un.send_keys('')\n",
    "time.sleep(3)\n",
    "pas = driver.find_element_by_id('password')\n",
    "pas.send_keys('')\n",
    "time.sleep(2)\n",
    "btn2 = driver.find_element_by_class_name('login__form_action_container')\n",
    "btn2.click()\n",
    "\n",
    "nust = driver.get('https://www.linkedin.com/in/konain-qurban-99513817/')\n",
    "driver.implicitly_wait(9)\n",
    "time.sleep(2)\n",
    "driver.implicitly_wait(60)\n",
    "time.sleep(2)\n",
    "driver.implicitly_wait(60)\n",
    "driver.execute_script(\"window.scrollTo(0, window.scrollY + 700)\")\n",
    "time.sleep(3)\n",
    "driver.implicitly_wait(60)\n",
    "\n",
    "print('--------------------------------------------')\n",
    "time.sleep(2)\n",
    "srcc = driver.find_element_by_xpath(\"//img[@class='presence-entity__image  pv-top-card__photo  lazy-image ember-view']\").get_attribute('src')\n",
    "print('Image Link: ',srcc)\n",
    "print('--------------------------------------------')\n",
    "time.sleep(2)\n",
    "ii = driver.find_element_by_xpath(\"//li[@class='inline t-24 t-black t-normal break-words']\")\n",
    "name = ii.text\n",
    "print('Name: ',name)\n",
    "print('--------------------------------------------')\n",
    "time.sleep(2)\n",
    "loc = driver.find_element_by_xpath(\"//li[@class='t-16 t-black t-normal inline-block']\")\n",
    "location = loc.text\n",
    "print('Location: ',location)\n",
    "print('--------------------------------------------')\n",
    "time.sleep(2)\n",
    "titleJ = driver.find_element_by_xpath(\"//h3[@class='t-16 t-black t-bold']\")\n",
    "titleJob = titleJ.text\n",
    "print('Job Title: ',titleJob)\n",
    "\n",
    "time.sleep(2)\n",
    "tjc = driver.find_element_by_xpath(\"//p[@class='pv-entity__secondary-title t-14 t-black t-normal']\")\n",
    "tjcc = tjc.text\n",
    "print('Company Name: ',tjcc)\n",
    "print('--------------------------------------------')\n",
    "time.sleep(2)\n",
    "ed = driver.find_elements_by_xpath(\"//span[@class='pv-entity__comma-item']\")\n",
    "c = 0\n",
    "print('Specialization: ')\n",
    "for i in ed:\n",
    "    c += 1\n",
    "    print(i.text)\n",
    "    if c == 2:\n",
    "        break\n",
    "\n",
    "time.sleep(2)\n",
    "ed = driver.find_element_by_xpath(\"//h3[@class='pv-entity__school-name t-16 t-black t-bold']\")\n",
    "edd = ed.text\n",
    "print('From: ',edd)"
   ]
  },
  {
   "cell_type": "code",
   "execution_count": 7,
   "metadata": {},
   "outputs": [
    {
     "name": "stdout",
     "output_type": "stream",
     "text": [
      "Image Link:  https://media-exp1.licdn.com/dms/image/C4D03AQENTTxds8VDGQ/profile-displayphoto-shrink_400_400/0/1516620786679?e=1620259200&v=beta&t=DFjEjSa2mugrlqIy_xiVeXXys-MrVxi88cf0sDTaZKM\n"
     ]
    }
   ],
   "source": [
    "srcc = driver.find_element_by_xpath(\"//img[@class='presence-entity__image  pv-top-card__photo  lazy-image ember-view']\").get_attribute('src')\n",
    "print('Image Link: ',srcc)"
   ]
  },
  {
   "cell_type": "code",
   "execution_count": null,
   "metadata": {},
   "outputs": [],
   "source": []
  }
 ],
 "metadata": {
  "kernelspec": {
   "display_name": "Python 3",
   "language": "python",
   "name": "python3"
  },
  "language_info": {
   "codemirror_mode": {
    "name": "ipython",
    "version": 3
   },
   "file_extension": ".py",
   "mimetype": "text/x-python",
   "name": "python",
   "nbconvert_exporter": "python",
   "pygments_lexer": "ipython3",
   "version": "3.7.6"
  }
 },
 "nbformat": 4,
 "nbformat_minor": 4
}
