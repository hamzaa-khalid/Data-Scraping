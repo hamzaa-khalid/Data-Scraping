{
 "cells": [
  {
   "cell_type": "code",
   "execution_count": 1,
   "metadata": {},
   "outputs": [],
   "source": [
    "from selenium import webdriver\n",
    "from selenium.webdriver.common.keys import Keys\n",
    "from selenium.webdriver.common.by import By\n",
    "from selenium.webdriver.support.ui import WebDriverWait\n",
    "from selenium.webdriver.support import expected_conditions as EC\n",
    "import time\n",
    "from bs4 import BeautifulSoup\n",
    "import requests\n",
    "#For Action Chains\n",
    "from selenium.webdriver.common.action_chains import ActionChains"
   ]
  },
  {
   "cell_type": "code",
   "execution_count": 12,
   "metadata": {},
   "outputs": [
    {
     "name": "stderr",
     "output_type": "stream",
     "text": [
      "C:\\Users\\Warm Sky\\anaconda3\\lib\\site-packages\\ipykernel_launcher.py:3: DeprecationWarning: use options instead of chrome_options\n",
      "  This is separate from the ipykernel package so we can avoid doing imports until\n"
     ]
    },
    {
     "data": {
      "text/plain": [
       "'for i in range(0,450):\\n    driver.execute_script(\"window.scrollTo(0, document.body.scrollHeight);\")\\n    time.sleep(3)'"
      ]
     },
     "execution_count": 12,
     "metadata": {},
     "output_type": "execute_result"
    }
   ],
   "source": [
    "chrome_options = webdriver.ChromeOptions()\n",
    "chrome_options.add_argument(\"--incognito\")\n",
    "driver = webdriver.Chrome('C:\\Program Files (x86)\\chromedriver.exe',chrome_options=chrome_options)\n",
    "driver.implicitly_wait(2)\n",
    "\n",
    "driver.get('https://www.linkedin.com/')\n",
    "time.sleep(5)\n",
    "\n",
    "n = driver.find_element_by_class_name('nav__button-secondary')\n",
    "n.click()\n",
    "time.sleep(5)\n",
    "\n",
    "un = driver.find_element_by_id('username')\n",
    "un.send_keys('')\n",
    "time.sleep(3)\n",
    "pas = driver.find_element_by_id('password')\n",
    "pas.send_keys('')\n",
    "btn2 = driver.find_element_by_class_name('login__form_action_container')\n",
    "btn2.click()\n",
    "\n",
    "driver.implicitly_wait(3)\n",
    "nust = driver.get('https://www.linkedin.com/school/ned-university-of-engineering-&-technology-karachi/people/?facetGeoRegion=ae%3A0')\n",
    "driver.implicitly_wait(9)\n",
    "time.sleep(3)\n",
    "\n",
    "x = driver.execute_script(\"return document.body.scrollHeight\")\n",
    "while True:\n",
    "    time.sleep(3)\n",
    "    driver.execute_script(\"window.scrollTo(0, document.body.scrollHeight)\")\n",
    "    time.sleep(5)\n",
    "    y = driver.execute_script(\"return document.body.scrollHeight\")\n",
    "    if x==y:\n",
    "        break\n",
    "    x = y\n",
    "    \n",
    "\"\"\"for i in range(0,450):\n",
    "    driver.execute_script(\"window.scrollTo(0, document.body.scrollHeight);\")\n",
    "    time.sleep(3)\"\"\""
   ]
  },
  {
   "cell_type": "code",
   "execution_count": 18,
   "metadata": {},
   "outputs": [],
   "source": [
    "soup_a = BeautifulSoup(driver.page_source, 'lxml')"
   ]
  },
  {
   "cell_type": "code",
   "execution_count": 19,
   "metadata": {},
   "outputs": [],
   "source": [
    "links = []\n",
    "for link in soup_a.find_all('a'):\n",
    "        # link.get('href') gets the href/url out of the a element\n",
    "        links.append(link.get('href'))"
   ]
  },
  {
   "cell_type": "code",
   "execution_count": 20,
   "metadata": {},
   "outputs": [
    {
     "data": {
      "text/plain": [
       "1285"
      ]
     },
     "execution_count": 20,
     "metadata": {},
     "output_type": "execute_result"
    }
   ],
   "source": [
    "len(links)"
   ]
  },
  {
   "cell_type": "code",
   "execution_count": null,
   "metadata": {},
   "outputs": [],
   "source": []
  },
  {
   "cell_type": "code",
   "execution_count": 21,
   "metadata": {},
   "outputs": [],
   "source": [
    "filter_object = list(filter(lambda a: '/in/' in a, links))\n",
    "#--------------------------------------------------------\n",
    "res = []\n",
    "for i in filter_object: \n",
    "    if i not in res: \n",
    "        res.append(i) \n",
    "#--------------------------------------------------------        \n",
    "AlumniLinks = []\n",
    "for i in res:\n",
    "    AlumniLinks.append('https://www.linkedin.com/'+i)\n",
    "\n",
    "f = open(\"iba-university-profiles.txt\", \"a\")\n",
    "for i in AlumniLinks:\n",
    "    f.write(i+'\\n')\n",
    "f.close()"
   ]
  },
  {
   "cell_type": "code",
   "execution_count": 22,
   "metadata": {},
   "outputs": [
    {
     "data": {
      "text/plain": [
       "630"
      ]
     },
     "execution_count": 22,
     "metadata": {},
     "output_type": "execute_result"
    }
   ],
   "source": [
    "len(AlumniLinks)"
   ]
  },
  {
   "cell_type": "code",
   "execution_count": null,
   "metadata": {},
   "outputs": [],
   "source": []
  }
 ],
 "metadata": {
  "kernelspec": {
   "display_name": "Python 3",
   "language": "python",
   "name": "python3"
  },
  "language_info": {
   "codemirror_mode": {
    "name": "ipython",
    "version": 3
   },
   "file_extension": ".py",
   "mimetype": "text/x-python",
   "name": "python",
   "nbconvert_exporter": "python",
   "pygments_lexer": "ipython3",
   "version": "3.7.6"
  }
 },
 "nbformat": 4,
 "nbformat_minor": 4
}
