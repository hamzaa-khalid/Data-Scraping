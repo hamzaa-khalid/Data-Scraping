{
 "cells": [
  {
   "cell_type": "code",
   "execution_count": 1,
   "metadata": {},
   "outputs": [],
   "source": [
    "from selenium import webdriver\n",
    "from selenium.webdriver.common.keys import Keys\n",
    "from selenium.webdriver.common.by import By\n",
    "from selenium.webdriver.support.ui import WebDriverWait\n",
    "from selenium.webdriver.support import expected_conditions as EC\n",
    "import time\n",
    "from bs4 import BeautifulSoup\n",
    "import requests\n",
    "\n",
    "#For Action Chains\n",
    "from selenium.webdriver.common.action_chains import ActionChains\n",
    "import csv\n",
    "#https://www.linkedin.com/in/ahmed-m-a63b42133/"
   ]
  },
  {
   "cell_type": "code",
   "execution_count": 41,
   "metadata": {},
   "outputs": [],
   "source": [
    "path = 'C:\\Program Files (x86)\\chromedriver.exe'\n",
    "driver = webdriver.Chrome(path)\n",
    "s = driver.get('https://www.linkedin.com/')\n",
    "\n",
    "n = driver.find_element_by_class_name('nav__button-secondary')\n",
    "n.click()\n",
    "\n",
    "un = driver.find_element_by_id('username')\n",
    "un.send_keys('')\n",
    "pas = driver.find_element_by_id('password')\n",
    "pas.send_keys('')\n",
    "btn2 = driver.find_element_by_class_name('login__form_action_container')\n",
    "btn2.click()\n",
    "\n",
    "driver.implicitly_wait(3)\n",
    "nust = driver.get('https://www.linkedin.com/in/farooq-ahmad-b6224ab/')\n",
    "driver.implicitly_wait(9)\n",
    "soup = BeautifulSoup(driver.page_source, 'html.parser')"
   ]
  },
  {
   "cell_type": "markdown",
   "metadata": {},
   "source": [
    "## Scraping Code Complete"
   ]
  },
  {
   "cell_type": "code",
   "execution_count": 2,
   "metadata": {},
   "outputs": [
    {
     "name": "stdout",
     "output_type": "stream",
     "text": [
      "\n",
      "              Farooq Ahmad\n",
      "            \n",
      "3rd\n",
      "\n",
      "              Business IT Manager at Emirates Airline\n",
      "            \n",
      "\n",
      "                United Arab Emirates\n",
      "              \n",
      "\n",
      "                    22 connections\n",
      "                  \n"
     ]
    }
   ],
   "source": [
    "path = 'C:\\Program Files (x86)\\chromedriver.exe'\n",
    "driver = webdriver.Chrome(path)\n",
    "s = driver.get('https://www.linkedin.com/')\n",
    "\n",
    "n = driver.find_element_by_class_name('nav__button-secondary')\n",
    "n.click()\n",
    "\n",
    "un = driver.find_element_by_id('username')\n",
    "un.send_keys('')\n",
    "pas = driver.find_element_by_id('password')\n",
    "pas.send_keys('')\n",
    "btn2 = driver.find_element_by_class_name('login__form_action_container')\n",
    "btn2.click()\n",
    "\n",
    "driver.implicitly_wait(3)\n",
    "nust = driver.get('https://www.linkedin.com/in/farooq-ahmad-b6224ab/')\n",
    "driver.implicitly_wait(9)\n",
    "soup = BeautifulSoup(driver.page_source, 'html.parser')\n",
    "\n",
    "i = soup.find(\"li\", class_ = 'inline t-24 t-black t-normal break-words')\n",
    "name = i.text\n",
    "print(name)\n",
    "\n",
    "deg = soup.find(\"span\", class_ = 'dist-value')\n",
    "degreeConnection = deg.text\n",
    "print(degreeConnection)\n",
    "\n",
    "jobb = soup.find(\"h2\", class_ = 'mt1 t-18 t-black t-normal break-words')\n",
    "job = jobb.text\n",
    "print(job)\n",
    "\n",
    "loc = soup.find(\"li\", class_ = 't-16 t-black t-normal inline-block')\n",
    "location = loc.text\n",
    "print(location)\n",
    "\n",
    "con = soup.find(\"span\", class_ = 't-16 t-black t-normal')\n",
    "noOfConnections = con.text\n",
    "print(noOfConnections)"
   ]
  },
  {
   "cell_type": "code",
   "execution_count": 43,
   "metadata": {},
   "outputs": [
    {
     "data": {
      "text/plain": [
       "[<div class=\"display-flex mt2\">\n",
       " <div class=\"flex-1 mr5\">\n",
       " <ul class=\"pv-top-card--list inline-flex align-items-center\">\n",
       " <li class=\"inline t-24 t-black t-normal break-words\">\n",
       "               Farooq Ahmad\n",
       "             </li>\n",
       " <li class=\"pv-top-card__distance-badge inline-block v-align-text-bottom t-16 t-black--light t-normal\"><span class=\"distance-badge separator\">\n",
       " <span class=\"visually-hidden\">3rd degree connection</span><span aria-hidden=\"true\" class=\"dist-value\">3rd</span>\n",
       " </span></li>\n",
       " <!-- --> <li class=\"inline-flex ml2\">\n",
       " <span class=\"pv-member-badge--for-top-card inline-flex pv-member-badge ember-view\" id=\"ember63\" style=\"display: none;\"><!-- -->\n",
       " <!-- -->\n",
       " <span class=\"visually-hidden\">\n",
       "   Farooq has a  account\n",
       " </span>\n",
       " <!-- --></span>\n",
       " </li>\n",
       " <!-- --> </ul>\n",
       " <h2 class=\"mt1 t-18 t-black t-normal break-words\">\n",
       "               Business IT Manager at Emirates Airline\n",
       "             </h2>\n",
       " <ul class=\"pv-top-card--list pv-top-card--list-bullet mt1\">\n",
       " <li class=\"t-16 t-black t-normal inline-block\">\n",
       "                 United Arab Emirates\n",
       "               </li>\n",
       " <!-- -->\n",
       " <li class=\"inline-block\">\n",
       " <span class=\"t-16 t-black t-normal\">\n",
       "                     22 connections\n",
       "                   </span>\n",
       " </li>\n",
       " <li class=\"inline-block\">\n",
       " <a class=\"ember-view\" data-control-name=\"contact_see_more\" href=\"/in/farooq-ahmad-b6224ab/detail/contact-info/\" id=\"ember64\"> <span class=\"t-16 link-without-visited-state\">\n",
       "                     Contact info\n",
       "                   </span>\n",
       " </a> </li>\n",
       " </ul>\n",
       " </div>\n",
       " <div>\n",
       " <ul class=\"pv-top-card--experience-list\">\n",
       " <li>\n",
       " <a class=\"pv-top-card--experience-list-item\" data-control-name=\"position_see_more\" data-ember-action=\"\" data-ember-action-65=\"65\" href=\"#\">\n",
       " <img class=\"EntityPhoto-square-1 flex-shrink-zero ember-view\" id=\"ember66\" src=\"https://media-exp1.licdn.com/dms/image/C4D0BAQFfPJ4052pw8A/company-logo_100_100/0/1579678837056?e=1619049600&amp;v=beta&amp;t=pAOtL_6jEmNnFEl2-dTic6-JShd4iCWc37CrwX2fnvs\"/>\n",
       " <span class=\"text-align-left ml2 t-14 t-black t-bold full-width lt-line-clamp lt-line-clamp--multi-line ember-view\" id=\"ember67\" style=\"-webkit-line-clamp: 2\">  Emirates Airline\n",
       " \n",
       " <!-- --></span>\n",
       " </a>\n",
       " </li>\n",
       " <li>\n",
       " <a class=\"pv-top-card--experience-list-item\" data-control-name=\"education_see_more\" data-ember-action=\"\" data-ember-action-68=\"68\" href=\"#\">\n",
       " <img class=\"EntityPhoto-square-1 flex-shrink-zero ember-view\" id=\"ember69\" src=\"https://media-exp1.licdn.com/dms/image/C560BAQHXHPTTz3hQNA/company-logo_100_100/0/1519866055960?e=1619049600&amp;v=beta&amp;t=Rgi16TqoClEXpDc8zFRPe_eeCtYR00URuMW1bG8d-k8\"/>\n",
       " <span class=\"text-align-left ml2 t-14 t-black t-bold full-width lt-line-clamp lt-line-clamp--multi-line ember-view\" id=\"ember70\" style=\"-webkit-line-clamp: 2\">  National University of Sciences and Technology (NUST)\n",
       " \n",
       " <!-- --></span>\n",
       " </a>\n",
       " </li>\n",
       " </ul>\n",
       " </div>\n",
       " </div>]"
      ]
     },
     "execution_count": 43,
     "metadata": {},
     "output_type": "execute_result"
    }
   ],
   "source": [
    "mainHead"
   ]
  },
  {
   "cell_type": "markdown",
   "metadata": {},
   "source": [
    "### All Items Which Are Scraped From A Linkedln Profile "
   ]
  },
  {
   "cell_type": "code",
   "execution_count": 44,
   "metadata": {},
   "outputs": [
    {
     "name": "stdout",
     "output_type": "stream",
     "text": [
      "\n",
      "              Farooq Ahmad\n",
      "            \n"
     ]
    }
   ],
   "source": [
    "i = soup.find(\"li\", class_ = 'inline t-24 t-black t-normal break-words')\n",
    "name = i.text\n",
    "print(name)"
   ]
  },
  {
   "cell_type": "code",
   "execution_count": null,
   "metadata": {},
   "outputs": [],
   "source": [
    "deg = soup.find(\"span\", class_ = 'dist-value')\n",
    "degreeConnection = deg.text\n",
    "print(degreeConnection)"
   ]
  },
  {
   "cell_type": "code",
   "execution_count": 47,
   "metadata": {},
   "outputs": [
    {
     "name": "stdout",
     "output_type": "stream",
     "text": [
      "\n",
      "              Business IT Manager at Emirates Airline\n",
      "            \n"
     ]
    }
   ],
   "source": [
    "jobb = soup.find(\"h2\", class_ = 'mt1 t-18 t-black t-normal break-words')\n",
    "job = jobb.text\n",
    "print(job)"
   ]
  },
  {
   "cell_type": "code",
   "execution_count": 48,
   "metadata": {},
   "outputs": [
    {
     "name": "stdout",
     "output_type": "stream",
     "text": [
      "\n",
      "                United Arab Emirates\n",
      "              \n"
     ]
    }
   ],
   "source": [
    "loc = soup.find(\"li\", class_ = 't-16 t-black t-normal inline-block')\n",
    "location = loc.text\n",
    "print(location)"
   ]
  },
  {
   "cell_type": "code",
   "execution_count": 49,
   "metadata": {},
   "outputs": [
    {
     "name": "stdout",
     "output_type": "stream",
     "text": [
      "\n",
      "                    22 connections\n",
      "                  \n"
     ]
    }
   ],
   "source": [
    "con = soup.find(\"span\", class_ = 't-16 t-black t-normal')\n",
    "noOfConnections = con.text\n",
    "print(noOfConnections)"
   ]
  },
  {
   "cell_type": "code",
   "execution_count": null,
   "metadata": {},
   "outputs": [],
   "source": []
  },
  {
   "cell_type": "markdown",
   "metadata": {},
   "source": [
    "### Using Linkedln-Scraper"
   ]
  },
  {
   "cell_type": "code",
   "execution_count": 91,
   "metadata": {},
   "outputs": [
    {
     "name": "stdout",
     "output_type": "stream",
     "text": [
      "Collecting linkedin-scraper\n",
      "  Downloading linkedin_scraper-2.7.1-py3-none-any.whl (24 kB)\n",
      "Requirement already satisfied: lxml in c:\\users\\warm sky\\anaconda3\\lib\\site-packages (from linkedin-scraper) (4.6.1)\n",
      "Requirement already satisfied: requests in c:\\users\\warm sky\\anaconda3\\lib\\site-packages (from linkedin-scraper) (2.24.0)\n",
      "Requirement already satisfied: selenium in c:\\users\\warm sky\\anaconda3\\lib\\site-packages (from linkedin-scraper) (3.141.0)\n",
      "Requirement already satisfied: idna<3,>=2.5 in c:\\users\\warm sky\\anaconda3\\lib\\site-packages (from requests->linkedin-scraper) (2.10)\n",
      "Requirement already satisfied: urllib3!=1.25.0,!=1.25.1,<1.26,>=1.21.1 in c:\\users\\warm sky\\anaconda3\\lib\\site-packages (from requests->linkedin-scraper) (1.25.10)\n",
      "Requirement already satisfied: certifi>=2017.4.17 in c:\\users\\warm sky\\anaconda3\\lib\\site-packages (from requests->linkedin-scraper) (2020.12.5)\n",
      "Requirement already satisfied: chardet<4,>=3.0.2 in c:\\users\\warm sky\\anaconda3\\lib\\site-packages (from requests->linkedin-scraper) (3.0.4)\n",
      "Installing collected packages: linkedin-scraper\n",
      "Successfully installed linkedin-scraper-2.7.1\n"
     ]
    },
    {
     "name": "stderr",
     "output_type": "stream",
     "text": [
      "WARNING: You are using pip version 20.2.3; however, version 20.3.3 is available.\n",
      "You should consider upgrading via the 'C:\\Users\\Warm Sky\\anaconda3\\python.exe -m pip install --upgrade pip' command.\n"
     ]
    }
   ],
   "source": [
    "!pip install linkedin-scraper"
   ]
  },
  {
   "cell_type": "code",
   "execution_count": null,
   "metadata": {},
   "outputs": [
    {
     "name": "stdout",
     "output_type": "stream",
     "text": [
      "you are not logged in!\n"
     ]
    }
   ],
   "source": [
    "from linkedin_scraper import Person, actions\n",
    "from selenium import webdriver\n",
    "path = 'C:\\Program Files (x86)\\chromedriver.exe'\n",
    "\n",
    "driver = webdriver.Chrome(path)\n",
    "\n",
    "email = \"\"\n",
    "password = \"\"\n",
    "\n",
    "actions.login(driver, email, password)\n",
    "person = Person(\"https://www.linkedin.com/in/farooq-ahmad-b6224ab/\", driver=driver)\n",
    "person.scrape()"
   ]
  },
  {
   "cell_type": "code",
   "execution_count": 103,
   "metadata": {},
   "outputs": [
    {
     "data": {
      "text/plain": [
       "Muhammad Yasin\n",
       "\n",
       "About\n",
       "['More than 8 years of experience in delivering cutting edge software development & IT Project Management services as a professional. Certified document management system architect and project management professional.\\nExperienced mobile government strategist and implementer.\\nSpecialties: Smart Government Solutions, Project Management, Document Management System, Enterprise Application Development,Document Management System,Business Process Management,\\nEnterprise Mobility, Research and Technology Development, Open Source Technologies,\\nMobile & Enterprise Security Consulting and Development, Managing Software teams, Product requirements and Product vision', 'CISSP and PMP Certified Professional having 8+ years of project management experience, 3+ years of implementing, auditing and performing Information systems security (solutions) and 3+ years of research experience in the field of Information security (Digital Forensics). I have extensive experience in the fields of Information Security Management, Business Continuity Management, Risk Management, Digital Forensics, Compliance & Auditing, Project Management and Consultancy.\\n\\nSpecialties:\\n► Program and Project management,\\n► Information security management,\\n► Risk management,\\n► Change management,\\n► Audit and Risk Champion,\\n► Policies and procedures development,\\n► Digital Forensics,\\n► Business continuity & Disaster recovery planning,\\n► IS compliance and auditing,\\n► Planner & project executor,\\n► Consultant, Trainer and presenter etc.']\n",
       "\n",
       "Experience\n",
       "[Head Smart Services Division at Fujairah Municipality Full-time from Dec 2009 to Present for 11 yrs 2 mos based at Fujairah, United Arab Emirates, Consultant at None from None to None for None based at None, Consultant at None from None to None for None based at None, Research Assistant at None from None to None for None based at None, Project Manager (PMO) at Etisalat UAE from Jun 2015 to Present for 5 yrs 8 mos based at UAE, Project Manager (Technical Sales) at Mobily from Jul 2013 to May 2015 for 1 yr 11 mos based at Riyadh, Assistant Manager (IS Audit) at PTCL.Official from Feb 2013 to Jul 2013 for 6 mos based at Islamabad, Pakistan, Researcher at None from None to None for None based at None, Research Engineer at None from None to None for None based at None]\n",
       "\n",
       "Education\n",
       "[Master's Degree at SZABIST Dubai from 2013 to 2015, Bachelors of Information Technology at National University of Science and Technology from 2002 to 2007, MS at National University of Science and Technology from 2007 to 2010, BS at International Islamic University, Islamabad from 2002 to 2007, ICS at P.A.F Inter College Chaklala, Rawalpindi from 2000 to 2002]\n",
       "\n",
       "Interest\n",
       "[]\n",
       "\n",
       "Accomplishments\n",
       "[Publications: Forensic artifacts modeling for social media client applications to enhance investigatory learning mechanisms, Publications: A granular approach for user-centric network analysis to identify digital evidence, Publications: DigLA - A Digsby Log Analysis Tool to Identify Forensic Artefacts, Publications: Forensic Analysis of Digsby Log Data to Trace Suspected User Activities, Publications: Analysis of Free Download Manager for Forensic Artefacts, Publications: Analysis of Internet Download Manager for collection of digital forensic artefacts, Publications: Analysis of Download Accelerator Plus (DAP) for Forensic Artefacts, Languages: English, Languages: Potohari, Languages: Punjabi, Languages: Saraiki, Languages: Urdu, Projects: Analysis of Windows Registry to trace User Activity, Projects: Network Software Management System (NSMS), Projects: Encryption & Decryption of Audio & Video, Projects: SIMAP ERP’s Sales Module, Projects: Task Tracking System]\n",
       "\n",
       "Contacts\n",
       "[ (),  (),  (),  (),  (),  (),  (),  (),  (),  (),  (),  (),  (),  (),  (),  (),  (),  (),  (),  (Student at NCBA&E), Muhammad Hassan (Data Science | SQL developer), Hassan Shaikh (Data Analyst || Data Scientist), Zeeshan Latif (Data Science | Python | AI & ML Enthusiast), Muhammad Ahmad (Data Analyst | Data Scientist), Muhammad Faheem (Data Scientist), Shaban Ahmad (Jr Data Scientist @ MTBC), Abbas Shafi (Student at The University of Agriculture Peshawar), Muhammad Asif (CEO | Founder of Hunny Bizz), Rizwan Hameed (Sales Executive at CIM Shipping Inc.), Waseem Akhtar (Full Stack Software Engineer, React JS, Node.js, Express.js, Django Web Framework.), Asif Rasool (Python Developer | Data Analyst | Artificial Intelligence Enthusiast), Muhammad Usama (Data Scientist), Masab Umair (Data Scientist | Data Analyst | AI Enthusiast | Professional Freelancer), SYED MANSOOR ALI SHAH (Data Engineer at Love For Data), Muhammad Ishaq (ETL | Data Engineer | Power BI | Hive | SQL | Spark), Hamza Khalid (Graduate from Abdul wali khan university Mardan), Muhammad Manzoor Faisal (Aspiring to Machine Learning Engineer and Data Scientist), Kanchan Agarwal (Data Science Intern at Latitude Technolabs Pvt. Ltd.), Athar Iqbal (Student at PAF-Karachi Institute of Economics & Technology), Ahmed Naseem (Creative Designer (Web - UI/UX - Logo) at Concept Creator), Farheen Waqar (Documentation Specialist | Data Analyst | ML Engineer), Abdullah Aamir (Project Cordinator at HUAWEI Pakistan), Faysal Fraz (Data Scientist | Machine Learning | Python Developer|), Arsalan Ahsan (Data Analyst at MarketLytics), Engr. Moiz Ahmad (Civil Engineer looking for a job in construction| Social worker), Asfar Ali Music Studio (Attended Muhammad Ali Jinnah University), Kher Mohammed (\"Iive your life & you'll be free\" 👻Snap: thekm.official •Influencer, Creator, Host Blogger || Rural Photographer), Naveed Akram (Lead Generation Expert), Suhail Khan (Fund Management | Investment Analyst | Trading Mentor | Trend Trader -- Forex, Commodities and Indices), Arslan Haider Khan (Data Science | Data Analyst | Python | Machine Learning), Izzah Salam (Machine Learning | Data Science | BI Tools), Asghar Afzal (Data Scientist at The Sparks Foundation), Tawish Manzoor (.NET Developer at SQ SOFT TECHNOLOGIES KARACHI), Muhammad Kaleem Ullah (Business Intelligence Analyst at Fori Automation, Inc.), Zohaib Arshad (Data Science & Artificial Intelligence Enthusiast.), Shariq Hameed (Data Science | Data Analysis | Machine Learning | Deep Learning), Hasan Mehmood (Python Expert | Django | Data Science | Web Scraping), hamza naeem (Machine Learning Engineer at SlimLogix), Jazay Ahmad (Data Scientist | Machine Learning Engineer), Ahtisham Amjad (Student at NCBA&E), Muhammad Hassan (Data Science | SQL developer), Hassan Shaikh (Data Analyst || Data Scientist), Zeeshan Latif (Data Science | Python | AI & ML Enthusiast), Muhammad Ahmad (Data Analyst | Data Scientist), Muhammad Faheem (Data Scientist), Shaban Ahmad (Jr Data Scientist @ MTBC), Abbas Shafi (Student at The University of Agriculture Peshawar), Muhammad Asif (CEO | Founder of Hunny Bizz), Rizwan Hameed (Sales Executive at CIM Shipping Inc.), Waseem Akhtar (Full Stack Software Engineer, React JS, Node.js, Express.js, Django Web Framework.), Asif Rasool (Python Developer | Data Analyst | Artificial Intelligence Enthusiast), Muhammad Usama (Data Scientist), Masab Umair (Data Scientist | Data Analyst | AI Enthusiast | Professional Freelancer), SYED MANSOOR ALI SHAH (Data Engineer at Love For Data), Muhammad Ishaq (ETL | Data Engineer | Power BI | Hive | SQL | Spark), Hamza Khalid (Graduate from Abdul wali khan university Mardan), Muhammad Manzoor Faisal (Aspiring to Machine Learning Engineer and Data Scientist), Kanchan Agarwal (Data Science Intern at Latitude Technolabs Pvt. Ltd.), Athar Iqbal (Student at PAF-Karachi Institute of Economics & Technology), Ahmed Naseem (Creative Designer (Web - UI/UX - Logo) at Concept Creator)]"
      ]
     },
     "execution_count": 103,
     "metadata": {},
     "output_type": "execute_result"
    }
   ],
   "source": [
    "person"
   ]
  },
  {
   "cell_type": "code",
   "execution_count": null,
   "metadata": {},
   "outputs": [
    {
     "name": "stdout",
     "output_type": "stream",
     "text": [
      "you are not logged in!\n"
     ]
    }
   ],
   "source": []
  },
  {
   "cell_type": "code",
   "execution_count": null,
   "metadata": {},
   "outputs": [],
   "source": []
  }
 ],
 "metadata": {
  "kernelspec": {
   "display_name": "Python 3",
   "language": "python",
   "name": "python3"
  },
  "language_info": {
   "codemirror_mode": {
    "name": "ipython",
    "version": 3
   },
   "file_extension": ".py",
   "mimetype": "text/x-python",
   "name": "python",
   "nbconvert_exporter": "python",
   "pygments_lexer": "ipython3",
   "version": "3.7.6"
  }
 },
 "nbformat": 4,
 "nbformat_minor": 4
}
