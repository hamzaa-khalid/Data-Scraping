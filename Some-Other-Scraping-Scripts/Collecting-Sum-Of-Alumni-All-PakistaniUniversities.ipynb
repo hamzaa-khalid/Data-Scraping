{
 "cells": [
  {
   "cell_type": "code",
   "execution_count": 1,
   "metadata": {},
   "outputs": [],
   "source": [
    "from selenium import webdriver\n",
    "from selenium.webdriver.common.keys import Keys\n",
    "from selenium.webdriver.common.by import By\n",
    "from selenium.webdriver.support.ui import WebDriverWait\n",
    "from selenium.webdriver.support import expected_conditions as EC\n",
    "import time"
   ]
  },
  {
   "cell_type": "code",
   "execution_count": 35,
   "metadata": {},
   "outputs": [
    {
     "name": "stderr",
     "output_type": "stream",
     "text": [
      "C:\\Users\\Warm Sky\\anaconda3\\lib\\site-packages\\ipykernel_launcher.py:3: DeprecationWarning: use options instead of chrome_options\n",
      "  This is separate from the ipykernel package so we can avoid doing imports until\n"
     ]
    }
   ],
   "source": [
    "chrome_options = webdriver.ChromeOptions()\n",
    "chrome_options.add_argument(\"--incognito\")\n",
    "driver = webdriver.Chrome('C:\\Program Files (x86)\\chromedriver.exe',chrome_options=chrome_options)\n",
    "driver.implicitly_wait(2)\n",
    "\n",
    "driver.get('https://www.linkedin.com/')\n",
    "time.sleep(5)\n",
    "\n",
    "n = driver.find_element_by_class_name('nav__button-secondary')\n",
    "n.click()\n",
    "time.sleep(5)\n",
    "\n",
    "un = driver.find_element_by_id('username')\n",
    "un.send_keys('')\n",
    "time.sleep(3)\n",
    "pas = driver.find_element_by_id('password')\n",
    "pas.send_keys('')\n",
    "btn2 = driver.find_element_by_class_name('login__form_action_container')\n",
    "btn2.click()\n",
    "sumListAlumni = []\n",
    "for i in range(0,len(#Pass-University-Links-List-Here)):\n",
    "    driver.implicitly_wait(3)\n",
    "    nust = driver.get(newlistAlumni[i]+'?facetGeoRegion=ae%3A0')\n",
    "    driver.implicitly_wait(9)\n",
    "    time.sleep(3)\n",
    "    try:\n",
    "        n = driver.find_element_by_xpath(\"//span[@class='t-20 t-black t-bold']\")\n",
    "        summ = n.text\n",
    "        s_nn = summ.split(' ')[0]\n",
    "        s_n =  s_nn.replace(',', '')\n",
    "        x = int(s_n)\n",
    "        if x > 1000:\n",
    "            sumListAlumni.append(900)\n",
    "        else:\n",
    "            sumListAlumni.append(x)\n",
    "    except:\n",
    "        continue"
   ]
  },
  {
   "cell_type": "code",
   "execution_count": null,
   "metadata": {},
   "outputs": [],
   "source": []
  },
  {
   "cell_type": "markdown",
   "metadata": {},
   "source": [
    "### 79415 - Alumni's Are In UAE From Pakistani Universities"
   ]
  },
  {
   "cell_type": "code",
   "execution_count": 10,
   "metadata": {},
   "outputs": [
    {
     "name": "stdout",
     "output_type": "stream",
     "text": [
      "12,605 alumni\n"
     ]
    }
   ],
   "source": [
    "print(n.text)"
   ]
  },
  {
   "cell_type": "code",
   "execution_count": 48,
   "metadata": {},
   "outputs": [],
   "source": [
    "AlumniSum = []\n",
    "op = open(\"NewSumUniversityLinks.txt\", \"r\")\n",
    "for i in op:\n",
    "    AlumniSum.append(i[:-1])"
   ]
  },
  {
   "cell_type": "code",
   "execution_count": 49,
   "metadata": {},
   "outputs": [],
   "source": [
    "res = []\n",
    "for i in AlumniSum: \n",
    "    if i not in res: \n",
    "        res.append(i)"
   ]
  },
  {
   "cell_type": "code",
   "execution_count": 50,
   "metadata": {},
   "outputs": [
    {
     "data": {
      "text/plain": [
       "100"
      ]
     },
     "execution_count": 50,
     "metadata": {},
     "output_type": "execute_result"
    }
   ],
   "source": [
    "len(res)"
   ]
  },
  {
   "cell_type": "code",
   "execution_count": 51,
   "metadata": {},
   "outputs": [
    {
     "data": {
      "text/plain": [
       "['https://www.linkedin.com/school/university-of-karachi/people/',\n",
       " 'https://www.linkedin.com/school/nustofficial/people/',\n",
       " 'https://www.linkedin.com/school/ned-university-of-engineering-&-technology-karachi/people/',\n",
       " 'https://www.linkedin.com/school/quaid-e-azam-university-islamabad/people/',\n",
       " 'https://www.linkedin.com/school/university-of-the-punjab/people/',\n",
       " 'https://www.linkedin.com/school/aga-khan-university/people/',\n",
       " 'https://www.linkedin.com/school/national-defense-university/people/',\n",
       " 'https://www.linkedin.com/school/allama-iqbal-open-university/people/',\n",
       " 'https://www.linkedin.com/school/international-islamic-university/people/',\n",
       " 'https://www.linkedin.com/school/virtual-comsats/people/',\n",
       " 'https://www.linkedin.com/school/comsats-university/people/',\n",
       " 'https://www.linkedin.com/school/nationaluniversityofmodernlanguages/people/',\n",
       " 'https://www.linkedin.com/school/fastnu/people/',\n",
       " 'https://www.linkedin.com/school/bahria-university/people/',\n",
       " 'https://www.linkedin.com/school/federal-urdu-university-of-arts-science-&-technology-islamabad./people/',\n",
       " 'https://www.linkedin.com/school/institute-of-space-technology-ist/people/',\n",
       " 'https://www.linkedin.com/school/riphah-international-university/people/',\n",
       " 'https://www.linkedin.com/school/air-university/people/',\n",
       " 'https://www.linkedin.com/school/shifa-tameer-e-millat-university/people/',\n",
       " 'https://www.linkedin.com/school/szabistofficial/people/',\n",
       " 'https://www.linkedin.com/school/university-of-balochistan/people/',\n",
       " 'https://www.linkedin.com/school/balochistan-university-of-engineering-and-technolo/people/',\n",
       " 'https://www.linkedin.com/school/balochistan-university-of-information-technology-and-management-sciences/people/',\n",
       " 'https://www.linkedin.com/school/al-khair-university/people/',\n",
       " 'https://www.linkedin.com/school/mohi-ud-din-islamic-university/people/',\n",
       " 'https://www.linkedin.com/school/liaquat-university-of-medical-&-health-sciences/people/',\n",
       " 'https://www.linkedin.com/school/university-of-sindh/people/',\n",
       " 'https://www.linkedin.com/school/institute-of-business-administration-karachi/people/',\n",
       " 'https://www.linkedin.com/school/dawood-university-of-engineering-and-technology/people/',\n",
       " 'https://www.linkedin.com/school/questnwb/people/',\n",
       " 'https://www.linkedin.com/school/sindh-agricultural-university/people/',\n",
       " 'https://www.linkedin.com/school/ivsaa/people/',\n",
       " 'https://www.linkedin.com/school/baqai-medical-university/people/',\n",
       " 'https://www.linkedin.com/school/hamdard-university/people/',\n",
       " 'https://www.linkedin.com/school/ssuetofficial/people/',\n",
       " 'https://www.linkedin.com/school/iobm-official/people/',\n",
       " 'https://www.linkedin.com/school/israuniversity/people/',\n",
       " 'https://www.linkedin.com/school/paf-karachi-institute-of-economics-&-technology/people/',\n",
       " 'https://www.linkedin.com/school/greenwich-university/people/',\n",
       " 'https://www.linkedin.com/school/jinnah-university-for-women/people/',\n",
       " 'https://www.linkedin.com/school/iqra-university-official/people/',\n",
       " 'https://www.linkedin.com/school/ilmauniversity/people/',\n",
       " 'https://www.linkedin.com/school/ksbl/people/',\n",
       " 'https://www.linkedin.com/school/habib-university/people/',\n",
       " 'https://www.linkedin.com/school/dha-suffa-university/people/',\n",
       " 'https://www.linkedin.com/school/university-of-peshawar-alumni/people/',\n",
       " 'https://www.linkedin.com/school/uetpeshawarofficial/people/',\n",
       " 'https://www.linkedin.com/school/universityofagriculturepeshawar/people/',\n",
       " 'https://www.linkedin.com/school/cecos-university-of-information-technology-and-emerging-sciences/people/',\n",
       " 'https://www.linkedin.com/school/ghulam-ishaq-khan-institute-of-engineering-sciences-and-technology/people/',\n",
       " 'https://www.linkedin.com/school/kohat-university-of-science-&-technology/people/',\n",
       " 'https://www.linkedin.com/school/uomedu/people/',\n",
       " 'https://www.linkedin.com/school/hazara-university/people/',\n",
       " 'https://www.linkedin.com/school/bkuc/people/',\n",
       " 'https://www.linkedin.com/school/government-college-university/people/',\n",
       " 'https://www.linkedin.com/school/forman-christian-college/people/',\n",
       " 'https://www.linkedin.com/school/national-college-of-arts/people/',\n",
       " 'https://www.linkedin.com/school/university-of-agriculture-faisalabad/people/',\n",
       " 'https://www.linkedin.com/school/namal-institute/people/',\n",
       " 'https://www.linkedin.com/school/govt.-college-university-faisalabad/people/',\n",
       " 'https://www.linkedin.com/school/lcwuofficial/people/',\n",
       " 'https://www.linkedin.com/school/national-textile-university-faisalabad-pakistan./people/',\n",
       " 'https://www.linkedin.com/school/bzu/people/',\n",
       " 'https://www.linkedin.com/school/the-islamia-university-of-bahawalpur/people/',\n",
       " 'https://www.linkedin.com/school/lahore-university-of-management-sciences/people/',\n",
       " 'https://www.linkedin.com/school/nfc-iet/people/',\n",
       " 'https://www.linkedin.com/school/umt-official/people/',\n",
       " 'https://www.linkedin.com/school/national-college-of-business-administration-and-economics/people/',\n",
       " 'https://www.linkedin.com/school/lahore-school-of-economics/people/',\n",
       " 'https://www.linkedin.com/school/fatima-jinnah-women-university-rawalpindi/people/',\n",
       " 'https://www.linkedin.com/school/university-of-sargodha-pakistan/people/',\n",
       " 'https://www.linkedin.com/school/universityofeducation/people/',\n",
       " 'https://www.linkedin.com/school/gift-university/people/',\n",
       " 'https://www.linkedin.com/school/hajvery-university/people/',\n",
       " 'https://www.linkedin.com/school/ucp-official/people/',\n",
       " 'https://www.linkedin.com/school/universityoffaisalabad/people/',\n",
       " 'https://www.linkedin.com/school/university-of-engineering-and-technology-lahore/people/',\n",
       " 'https://www.linkedin.com/school/beaconhouse-national-university/people/',\n",
       " 'https://www.linkedin.com/school/university-of-south-asia/people/',\n",
       " 'https://www.linkedin.com/school/hitec-university/people/',\n",
       " 'https://www.linkedin.com/school/institute-of-southern-punjab-multan/people/',\n",
       " 'https://www.linkedin.com/school/information-technology-university/people/',\n",
       " 'https://www.linkedin.com/school/muhammad-nawaz-sharif-university-of-engineering-technology-multan/people/',\n",
       " 'https://www.linkedin.com/school/virtual-university-of-pakistan/people/',\n",
       " 'https://www.linkedin.com/school/uniofsahiwal/people/',\n",
       " 'https://www.linkedin.com/company/mehran-univeristy-jamshoro/people/',\n",
       " 'https://www.linkedin.com/company/shah-abdul-latif-university/people/',\n",
       " 'https://www.linkedin.com/company/textile-institute-of-pakistan-&-national-textile-foundation/people/',\n",
       " 'https://www.linkedin.com/company/bnbwomenuniversity/people/',\n",
       " 'https://www.linkedin.com/company/sarhad-university-of-science-it/people/',\n",
       " 'https://www.linkedin.com/company/khyber-medical-university-institute-of-medical-sciences-kohat/people/',\n",
       " 'https://www.linkedin.com/company/university-of-haripur-official-/people/',\n",
       " 'https://www.linkedin.com/company/iqra-national-university/people/',\n",
       " 'https://www.linkedin.com/company/fata-university/people/',\n",
       " 'https://www.linkedin.com/company/uhslhrofficial/people/',\n",
       " 'https://www.linkedin.com/company/university-of-gujrat-pakistan/people/',\n",
       " 'https://www.linkedin.com/company/superioruniversity/people/',\n",
       " 'https://www.linkedin.com/company/minhajuniversitylahore/people/',\n",
       " 'https://www.linkedin.com/company/wah-engineering-college-university-of-wah/people/',\n",
       " 'https://www.linkedin.com/company/pakistan-institute-of-fashion-&-design/people/']"
      ]
     },
     "execution_count": 51,
     "metadata": {},
     "output_type": "execute_result"
    }
   ],
   "source": [
    "res"
   ]
  },
  {
   "cell_type": "code",
   "execution_count": null,
   "metadata": {},
   "outputs": [],
   "source": []
  }
 ],
 "metadata": {
  "kernelspec": {
   "display_name": "Python 3",
   "language": "python",
   "name": "python3"
  },
  "language_info": {
   "codemirror_mode": {
    "name": "ipython",
    "version": 3
   },
   "file_extension": ".py",
   "mimetype": "text/x-python",
   "name": "python",
   "nbconvert_exporter": "python",
   "pygments_lexer": "ipython3",
   "version": "3.7.6"
  }
 },
 "nbformat": 4,
 "nbformat_minor": 4
}
