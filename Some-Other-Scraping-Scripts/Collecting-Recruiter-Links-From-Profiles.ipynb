{
 "cells": [
  {
   "cell_type": "code",
   "execution_count": 1,
   "metadata": {},
   "outputs": [],
   "source": [
    "from selenium import webdriver\n",
    "from selenium.webdriver.common.keys import Keys\n",
    "from selenium.webdriver.common.by import By\n",
    "from selenium.webdriver.support.ui import WebDriverWait\n",
    "from selenium.webdriver.support import expected_conditions as EC\n",
    "import time\n",
    "import pandas as pd"
   ]
  },
  {
   "cell_type": "code",
   "execution_count": 105,
   "metadata": {},
   "outputs": [
    {
     "name": "stderr",
     "output_type": "stream",
     "text": [
      "C:\\Users\\Warm Sky\\anaconda3\\lib\\site-packages\\ipykernel_launcher.py:3: DeprecationWarning: use options instead of chrome_options\n",
      "  This is separate from the ipykernel package so we can avoid doing imports until\n"
     ]
    }
   ],
   "source": [
    "chrome_options = webdriver.ChromeOptions()\n",
    "chrome_options.add_argument(\"--incognito\")\n",
    "driver = webdriver.Chrome('C:\\Program Files (x86)\\chromedriver.exe',chrome_options=chrome_options)\n",
    "driver.implicitly_wait(2)\n",
    "\n",
    "driver.get('https://www.linkedin.com/')\n",
    "time.sleep(5)\n",
    "\n",
    "n = driver.find_element_by_class_name('nav__button-secondary')\n",
    "n.click()\n",
    "time.sleep(5)\n",
    "\n",
    "un = driver.find_element_by_id('username')\n",
    "un.send_keys('')\n",
    "time.sleep(3)\n",
    "pas = driver.find_element_by_id('password')\n",
    "pas.send_keys('')\n",
    "btn2 = driver.find_element_by_class_name('login__form_action_container')\n",
    "btn2.click()\n"
   ]
  },
  {
   "cell_type": "markdown",
   "metadata": {},
   "source": [
    "### Collecting Links Using Recuiter Account"
   ]
  },
  {
   "cell_type": "code",
   "execution_count": 93,
   "metadata": {
    "scrolled": true
   },
   "outputs": [
    {
     "name": "stdout",
     "output_type": "stream",
     "text": [
      "Next https://www.linkedin.com/recruiter/smartsearch?searchHistoryId=4501663746&searchCacheKey=bc74c66b-8436-4691-8f80-98b8b7ceb862%2Czgls&searchRequestId=201feb9e-8a72-4e12-b1cf-3cc954747bb6%2ChgBQ&searchSessionId=4501663746&linkContext=Controller%3AsmartSearch%2CAction%3Asearch%2CID%3A4501663746&doExplain=false&origin=SRFS&start=25\n",
      "Next https://www.linkedin.com/recruiter/smartsearch?searchHistoryId=4501663746&searchCacheKey=bc74c66b-8436-4691-8f80-98b8b7ceb862%2Czgls&searchRequestId=721863b4-90a8-498e-8034-4b374beb641a%2C0s_M&searchSessionId=4501663746&linkContext=Controller%3AsmartSearch%2CAction%3Asearch%2CID%3A4501663746&doExplain=false&origin=SRFS&start=50\n",
      "Next https://www.linkedin.com/recruiter/smartsearch?searchHistoryId=4501663746&searchCacheKey=bc74c66b-8436-4691-8f80-98b8b7ceb862%2Czgls&searchRequestId=0bcf4f46-555e-43b9-a04f-11196d3e95dc%2Cf445&searchSessionId=4501663746&linkContext=Controller%3AsmartSearch%2CAction%3Asearch%2CID%3A4501663746&doExplain=false&origin=SRFS&start=75\n",
      "Next https://www.linkedin.com/recruiter/smartsearch?searchHistoryId=4501663746&searchCacheKey=bc74c66b-8436-4691-8f80-98b8b7ceb862%2Czgls&searchRequestId=18dfd468-02a2-4ca8-99a5-7ec3b1162c2e%2CSldW&searchSessionId=4501663746&linkContext=Controller%3AsmartSearch%2CAction%3Asearch%2CID%3A4501663746&doExplain=false&origin=SRFS&start=100\n",
      "Next https://www.linkedin.com/recruiter/smartsearch?searchHistoryId=4501663746&searchCacheKey=bc74c66b-8436-4691-8f80-98b8b7ceb862%2Czgls&searchRequestId=a355fc14-5f28-445b-bbe2-7f6f4c6846c7%2CsNpa&searchSessionId=4501663746&linkContext=Controller%3AsmartSearch%2CAction%3Asearch%2CID%3A4501663746&doExplain=false&origin=SRFS&start=125\n",
      "Next https://www.linkedin.com/recruiter/smartsearch?searchHistoryId=4501663746&searchCacheKey=bc74c66b-8436-4691-8f80-98b8b7ceb862%2Czgls&searchRequestId=7f4ca2eb-7299-4920-8567-c9da92453e62%2C0gLm&searchSessionId=4501663746&linkContext=Controller%3AsmartSearch%2CAction%3Asearch%2CID%3A4501663746&doExplain=false&origin=SRFS&start=150\n",
      "Next https://www.linkedin.com/recruiter/smartsearch?searchHistoryId=4501663746&searchCacheKey=bc74c66b-8436-4691-8f80-98b8b7ceb862%2Czgls&searchRequestId=749e59bb-6381-4895-9ddb-bdf74b2d54b6%2CdWbz&searchSessionId=4501663746&linkContext=Controller%3AsmartSearch%2CAction%3Asearch%2CID%3A4501663746&doExplain=false&origin=SRFS&start=175\n",
      "Next https://www.linkedin.com/recruiter/smartsearch?searchHistoryId=4501663746&searchCacheKey=bc74c66b-8436-4691-8f80-98b8b7ceb862%2Czgls&searchRequestId=c06d2140-7fde-45aa-b8fc-fc8375bfd327%2CcDMB&searchSessionId=4501663746&linkContext=Controller%3AsmartSearch%2CAction%3Asearch%2CID%3A4501663746&doExplain=false&origin=SRFS&start=200\n",
      "Next https://www.linkedin.com/recruiter/smartsearch?searchHistoryId=4501663746&searchCacheKey=bc74c66b-8436-4691-8f80-98b8b7ceb862%2Czgls&searchRequestId=ebdffc66-ff87-4660-be00-855b12e3a05f%2C7v26&searchSessionId=4501663746&linkContext=Controller%3AsmartSearch%2CAction%3Asearch%2CID%3A4501663746&doExplain=false&origin=SRFS&start=225\n",
      "Next https://www.linkedin.com/recruiter/smartsearch?searchHistoryId=4501663746&searchCacheKey=bc74c66b-8436-4691-8f80-98b8b7ceb862%2Czgls&searchRequestId=b4f1a33b-d111-4b20-853f-6e766b26863f%2Cw_Wx&searchSessionId=4501663746&linkContext=Controller%3AsmartSearch%2CAction%3Asearch%2CID%3A4501663746&doExplain=false&origin=SRFS&start=250\n",
      "Next https://www.linkedin.com/recruiter/smartsearch?searchHistoryId=4501663746&searchCacheKey=bc74c66b-8436-4691-8f80-98b8b7ceb862%2Czgls&searchRequestId=50c77d59-cad9-4a41-88d5-1d997218238c%2CUSh3&searchSessionId=4501663746&linkContext=Controller%3AsmartSearch%2CAction%3Asearch%2CID%3A4501663746&doExplain=false&origin=SRFS&start=275\n",
      "Next https://www.linkedin.com/recruiter/smartsearch?searchHistoryId=4501663746&searchCacheKey=bc74c66b-8436-4691-8f80-98b8b7ceb862%2Czgls&searchRequestId=c9940bf7-6f0b-4805-bf90-f537898dbbcd%2COoMR&searchSessionId=4501663746&linkContext=Controller%3AsmartSearch%2CAction%3Asearch%2CID%3A4501663746&doExplain=false&origin=SRFS&start=300\n",
      "Next https://www.linkedin.com/recruiter/smartsearch?searchHistoryId=4501663746&searchCacheKey=bc74c66b-8436-4691-8f80-98b8b7ceb862%2Czgls&searchRequestId=f478f512-0d24-4e5e-b06a-f9d7d018d5fd%2CVwWC&searchSessionId=4501663746&linkContext=Controller%3AsmartSearch%2CAction%3Asearch%2CID%3A4501663746&doExplain=false&origin=SRFS&start=325\n",
      "Next https://www.linkedin.com/recruiter/smartsearch?searchHistoryId=4501663746&searchCacheKey=bc74c66b-8436-4691-8f80-98b8b7ceb862%2Czgls&searchRequestId=66e08404-7064-4667-b810-584911ac2f80%2Cji0F&searchSessionId=4501663746&linkContext=Controller%3AsmartSearch%2CAction%3Asearch%2CID%3A4501663746&doExplain=false&origin=SRFS&start=350\n",
      "Next https://www.linkedin.com/recruiter/smartsearch?searchHistoryId=4501663746&searchCacheKey=bc74c66b-8436-4691-8f80-98b8b7ceb862%2Czgls&searchRequestId=488ba44c-3c46-41b1-af21-0a5e217753ae%2CGAn7&searchSessionId=4501663746&linkContext=Controller%3AsmartSearch%2CAction%3Asearch%2CID%3A4501663746&doExplain=false&origin=SRFS&start=375\n",
      "Next https://www.linkedin.com/recruiter/smartsearch?searchHistoryId=4501663746&searchCacheKey=bc74c66b-8436-4691-8f80-98b8b7ceb862%2Czgls&searchRequestId=6eb2dbce-d136-49b2-a3ca-61c346ee36c0%2C-PpY&searchSessionId=4501663746&linkContext=Controller%3AsmartSearch%2CAction%3Asearch%2CID%3A4501663746&doExplain=false&origin=SRFS&start=400\n",
      "Script Ended ...!!!\n"
     ]
    }
   ],
   "source": [
    "al = []\n",
    "for i in range(0,1000,25):\n",
    "    driver.implicitly_wait(3)\n",
    "    driver.get('https://www.linkedin.com/recruiter/smartsearch?searchHistoryId=4501663746&searchCacheKey=bc74c66b-8436-4691-8f80-98b8b7ceb862%2Czgls&searchRequestId=918cd46f-4231-44e9-8031-b3da657f0ec7%2CQO45&searchSessionId=4501663746&linkContext=Controller%3AsmartSearch%2CAction%3Asearch%2CID%3A4501663746&doExplain=false&origin=SRFS&start='+str(i))\n",
    "    driver.implicitly_wait(60)\n",
    "    time.sleep(5)\n",
    "    \n",
    "    wn = driver.find_elements_by_xpath(\"//a[@class='page-link']\")[0].get_attribute('rel')\n",
    "    if wn == 'prev': \n",
    "        if driver.find_elements_by_xpath(\"//a[@class='page-link']\")[1].get_attribute('rel') == 'prev':\n",
    "            driver.implicitly_wait(30)\n",
    "            time.sleep(5)\n",
    "            elems = driver.find_elements_by_xpath(\"//a[@href]\")\n",
    "            for elem in elems:\n",
    "                al.append(elem.get_attribute(\"href\"))\n",
    "            print('Script Ended ...!!!')\n",
    "            break\n",
    "        else:\n",
    "            wn = driver.find_elements_by_xpath(\"//a[@class='page-link']\")[1].get_attribute('href')\n",
    "            print('Next', wn)\n",
    "            driver.implicitly_wait(60)\n",
    "            time.sleep(5)\n",
    "            elems = driver.find_elements_by_xpath(\"//a[@href]\")\n",
    "            for elem in elems:\n",
    "                al.append(elem.get_attribute(\"href\"))\n",
    "    else:\n",
    "        wn = driver.find_elements_by_xpath(\"//a[@class='page-link']\")[1].get_attribute('href')\n",
    "        print('Next', wn)\n",
    "        driver.implicitly_wait(60)\n",
    "        time.sleep(5)\n",
    "        elems = driver.find_elements_by_xpath(\"//a[@href]\")\n",
    "        for elem in elems:\n",
    "            al.append(elem.get_attribute(\"href\"))"
   ]
  },
  {
   "cell_type": "markdown",
   "metadata": {},
   "source": [
    "### Below Code: If University Recuiter List Is Only Of 1 Page"
   ]
  },
  {
   "cell_type": "code",
   "execution_count": 99,
   "metadata": {},
   "outputs": [],
   "source": [
    "al = []\n",
    "driver.implicitly_wait(3)\n",
    "driver.get('https://www.linkedin.com/recruiter/smartsearch?searchHistoryId=4501663746&searchCacheKey=2c5c8e44-697f-47ec-941c-7230aff361ac%2CPHqe&searchRequestId=b37052a6-c500-4ab8-a5e5-5558d31caf56%2Cfx2H&searchSessionId=4501663746&linkContext=Controller%3AsmartSearch%2CAction%3Asearch%2CID%3A4501663746&doExplain=false&origin=SRFS&start=0')\n",
    "driver.implicitly_wait(60)\n",
    "time.sleep(5)\n",
    "elems = driver.find_elements_by_xpath(\"//a[@href]\")\n",
    "for elem in elems:\n",
    "    al.append(elem.get_attribute(\"href\"))"
   ]
  },
  {
   "cell_type": "code",
   "execution_count": null,
   "metadata": {},
   "outputs": [],
   "source": []
  },
  {
   "cell_type": "code",
   "execution_count": 100,
   "metadata": {},
   "outputs": [],
   "source": [
    "filter_object = list(filter(lambda a: 'https://www.linkedin.com/recruiter/profile/' in a, al))\n",
    "#--------------------------------------------------------\n",
    "res = []\n",
    "for i in filter_object: \n",
    "    if i not in res: \n",
    "        res.append(i) \n",
    "#--------------------------------------------------------        \n",
    "# AlumniLinks = []\n",
    "# for i in res:\n",
    "#     AlumniLinks.append(i+'-Allama Iqbal Open University')"
   ]
  },
  {
   "cell_type": "code",
   "execution_count": 101,
   "metadata": {},
   "outputs": [
    {
     "data": {
      "text/plain": [
       "7"
      ]
     },
     "execution_count": 101,
     "metadata": {},
     "output_type": "execute_result"
    }
   ],
   "source": [
    "len(res)"
   ]
  },
  {
   "cell_type": "code",
   "execution_count": 102,
   "metadata": {},
   "outputs": [],
   "source": [
    "f = pd.DataFrame(res,columns=['Recruiter Links'])"
   ]
  },
  {
   "cell_type": "code",
   "execution_count": 103,
   "metadata": {},
   "outputs": [
    {
     "data": {
      "text/html": [
       "<div>\n",
       "<style scoped>\n",
       "    .dataframe tbody tr th:only-of-type {\n",
       "        vertical-align: middle;\n",
       "    }\n",
       "\n",
       "    .dataframe tbody tr th {\n",
       "        vertical-align: top;\n",
       "    }\n",
       "\n",
       "    .dataframe thead th {\n",
       "        text-align: right;\n",
       "    }\n",
       "</style>\n",
       "<table border=\"1\" class=\"dataframe\">\n",
       "  <thead>\n",
       "    <tr style=\"text-align: right;\">\n",
       "      <th></th>\n",
       "      <th>Recruiter Links</th>\n",
       "    </tr>\n",
       "  </thead>\n",
       "  <tbody>\n",
       "    <tr>\n",
       "      <th>0</th>\n",
       "      <td>https://www.linkedin.com/recruiter/profile/568...</td>\n",
       "    </tr>\n",
       "    <tr>\n",
       "      <th>1</th>\n",
       "      <td>https://www.linkedin.com/recruiter/profile/240...</td>\n",
       "    </tr>\n",
       "    <tr>\n",
       "      <th>2</th>\n",
       "      <td>https://www.linkedin.com/recruiter/profile/775...</td>\n",
       "    </tr>\n",
       "    <tr>\n",
       "      <th>3</th>\n",
       "      <td>https://www.linkedin.com/recruiter/profile/432...</td>\n",
       "    </tr>\n",
       "    <tr>\n",
       "      <th>4</th>\n",
       "      <td>https://www.linkedin.com/recruiter/profile/338...</td>\n",
       "    </tr>\n",
       "    <tr>\n",
       "      <th>5</th>\n",
       "      <td>https://www.linkedin.com/recruiter/profile/872...</td>\n",
       "    </tr>\n",
       "    <tr>\n",
       "      <th>6</th>\n",
       "      <td>https://www.linkedin.com/recruiter/profile/676...</td>\n",
       "    </tr>\n",
       "  </tbody>\n",
       "</table>\n",
       "</div>"
      ],
      "text/plain": [
       "                                     Recruiter Links\n",
       "0  https://www.linkedin.com/recruiter/profile/568...\n",
       "1  https://www.linkedin.com/recruiter/profile/240...\n",
       "2  https://www.linkedin.com/recruiter/profile/775...\n",
       "3  https://www.linkedin.com/recruiter/profile/432...\n",
       "4  https://www.linkedin.com/recruiter/profile/338...\n",
       "5  https://www.linkedin.com/recruiter/profile/872...\n",
       "6  https://www.linkedin.com/recruiter/profile/676..."
      ]
     },
     "execution_count": 103,
     "metadata": {},
     "output_type": "execute_result"
    }
   ],
   "source": [
    "f"
   ]
  },
  {
   "cell_type": "code",
   "execution_count": 104,
   "metadata": {},
   "outputs": [],
   "source": [
    "f.to_csv('hitec-university.csv')"
   ]
  }
 ],
 "metadata": {
  "kernelspec": {
   "display_name": "Python 3",
   "language": "python",
   "name": "python3"
  },
  "language_info": {
   "codemirror_mode": {
    "name": "ipython",
    "version": 3
   },
   "file_extension": ".py",
   "mimetype": "text/x-python",
   "name": "python",
   "nbconvert_exporter": "python",
   "pygments_lexer": "ipython3",
   "version": "3.7.6"
  }
 },
 "nbformat": 4,
 "nbformat_minor": 4
}
