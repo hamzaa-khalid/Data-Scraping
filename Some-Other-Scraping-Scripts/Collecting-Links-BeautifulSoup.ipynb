{
 "cells": [
  {
   "cell_type": "code",
   "execution_count": 65,
   "metadata": {},
   "outputs": [],
   "source": [
    "from selenium import webdriver\n",
    "from selenium.webdriver.common.keys import Keys\n",
    "from selenium.webdriver.common.by import By\n",
    "from selenium.webdriver.support.ui import WebDriverWait\n",
    "from selenium.webdriver.support import expected_conditions as EC\n",
    "import time\n",
    "from bs4 import BeautifulSoup\n",
    "\n",
    "#For Action Chains\n",
    "from selenium.webdriver.common.action_chains import ActionChains\n",
    "import pandas as pd"
   ]
  },
  {
   "cell_type": "markdown",
   "metadata": {},
   "source": [
    "### Collectng Links"
   ]
  },
  {
   "cell_type": "code",
   "execution_count": 123,
   "metadata": {},
   "outputs": [
    {
     "name": "stderr",
     "output_type": "stream",
     "text": [
      "C:\\Users\\Warm Sky\\anaconda3\\lib\\site-packages\\ipykernel_launcher.py:3: DeprecationWarning: use options instead of chrome_options\n",
      "  This is separate from the ipykernel package so we can avoid doing imports until\n"
     ]
    }
   ],
   "source": [
    "chrome_options = webdriver.ChromeOptions()\n",
    "chrome_options.add_argument(\"--incognito\")\n",
    "driver = webdriver.Chrome('C:\\Program Files (x86)\\chromedriver.exe',chrome_options=chrome_options)\n",
    "driver.implicitly_wait(2)\n",
    "\n",
    "driver.get('https://www.google.com/search?rlz=1C1PNBB_enPK889PK889&biw=1040&bih=450&ei=5OIgYK_nNMGD1fAP0IWBuAg&q=pakistani+profiles+in+united+arab+emirates+on+linkedin&oq=pakistani+profiles+in+united+arab+emirates+on+linkedin&gs_lcp=CgZwc3ktYWIQA1AAWABggrUBaAFwAHgAgAHaAYgB2gGSAQMyLTGYAQCqAQdnd3Mtd2l6wAEB&sclient=psy-ab&ved=0ahUKEwiv6YLx3NnuAhXBQRUIHdBCAIc4ChDh1QMIDQ&uact=5')\n",
    "time.sleep(5)\n",
    "\n",
    "driver.implicitly_wait(9)\n",
    "time.sleep(8)\n",
    "\n",
    "links = []\n",
    "while True:\n",
    "    time.sleep(4)\n",
    "    n = driver.find_element_by_id('pnnext')\n",
    "    n.click()                                  \n",
    "    time.sleep(4)\n",
    "    soup_a = BeautifulSoup(driver.page_source, 'lxml')\n",
    "    time.sleep(5)\n",
    "    for link in soup_a.find_all('a'):\n",
    "            # link.get('href') gets the href/url out of the a element\n",
    "            links.append(link.get('href'))"
   ]
  },
  {
   "cell_type": "code",
   "execution_count": 78,
   "metadata": {},
   "outputs": [],
   "source": [
    "soup_a = BeautifulSoup(driver.page_source, 'lxml')\n",
    "links = []\n",
    "for link in soup_a.find_all('a'):\n",
    "        # link.get('href') gets the href/url out of the a element\n",
    "        links.append(link.get('href'))"
   ]
  },
  {
   "cell_type": "code",
   "execution_count": 124,
   "metadata": {},
   "outputs": [],
   "source": [
    "res = [] \n",
    "for val in links: \n",
    "    if val != None : \n",
    "        res.append(val) "
   ]
  },
  {
   "cell_type": "code",
   "execution_count": 125,
   "metadata": {},
   "outputs": [],
   "source": [
    "filter_object = list(filter(lambda a: 'linkedin.com/in/' in a, res))\n",
    "#--------------------------------------------------------\n",
    "ll = []\n",
    "for i in filter_object: \n",
    "    if i not in ll: \n",
    "        ll.append(i) "
   ]
  },
  {
   "cell_type": "code",
   "execution_count": null,
   "metadata": {},
   "outputs": [],
   "source": []
  }
 ],
 "metadata": {
  "kernelspec": {
   "display_name": "Python 3",
   "language": "python",
   "name": "python3"
  },
  "language_info": {
   "codemirror_mode": {
    "name": "ipython",
    "version": 3
   },
   "file_extension": ".py",
   "mimetype": "text/x-python",
   "name": "python",
   "nbconvert_exporter": "python",
   "pygments_lexer": "ipython3",
   "version": "3.7.6"
  }
 },
 "nbformat": 4,
 "nbformat_minor": 4
}
