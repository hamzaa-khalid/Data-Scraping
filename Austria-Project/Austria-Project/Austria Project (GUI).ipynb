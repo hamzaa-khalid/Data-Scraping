{
 "cells": [
  {
   "cell_type": "code",
   "execution_count": 1,
   "metadata": {},
   "outputs": [],
   "source": [
    "from tkinter import filedialog\n",
    "from tkinter import messagebox\n",
    "from tkinter import *"
   ]
  },
  {
   "cell_type": "markdown",
   "metadata": {},
   "source": [
    "## GUI Main Screen"
   ]
  },
  {
   "cell_type": "code",
   "execution_count": 15,
   "metadata": {},
   "outputs": [],
   "source": [
    "def opening_form():\n",
    "    mf = Tk()\n",
    "    mf.geometry('1010x600+250+100')\n",
    "    mf.title('Welcome')\n",
    "    mf.resizable(0, 0)\n",
    "    photo = PhotoImage(file=\"mainpage.png\")\n",
    "    label = Label(mf,image=photo)\n",
    "    label.pack()\n",
    "\n",
    "    btn_nextform = Button(mf, text=\"Proceed\",bg='#143628', fg='#e3c322', width=19, font=('Open Sans', 25, 'bold'),command=mainMenu)\n",
    "    btn_nextform.place(x=315, y=328)\n",
    "    mf.mainloop()"
   ]
  },
  {
   "cell_type": "markdown",
   "metadata": {},
   "source": [
    "## Main Menu Screen"
   ]
  },
  {
   "cell_type": "code",
   "execution_count": 6,
   "metadata": {},
   "outputs": [],
   "source": [
    "def mainMenu():\n",
    "    ef = Toplevel()\n",
    "    ef.geometry('1010x600+250+100')\n",
    "    ef.title('Main Menu')\n",
    "    ef.resizable(0, 0)\n",
    "\n",
    "    pht = PhotoImage(file=\"mainmenu.png\")\n",
    "    label = Label(ef, image=pht)\n",
    "    label.pack()\n",
    "\n",
    "    btn_scraping = Button(ef,text=\"Data Scraping\",bg='#143628', fg='#e3c322', relief='flat', width=19, font=('Open Sans', 25, 'bold'), command=openScreen)\n",
    "    btn_scraping.place(x=305, y=229)\n",
    "    btn_addconnects = Button(ef, text=\"Adding Connects\",bg='#143628', fg='#e3c322', relief='flat', width=19, font=('Open Sans', 25, 'bold'), command=inputpage)\n",
    "    btn_addconnects.place(x=305, y=335)\n",
    "    btn_info = Button(ef, text=\"i\", bg='#143628', fg='#e3c322', relief='flat', width=3, font=('Arial', 25, 'bold'), command=infopage)\n",
    "    btn_info.place(x=930, y=525)\n",
    "\n",
    "    mainloop()"
   ]
  },
  {
   "cell_type": "markdown",
   "metadata": {},
   "source": [
    "## Info Page"
   ]
  },
  {
   "cell_type": "code",
   "execution_count": 7,
   "metadata": {},
   "outputs": [],
   "source": [
    "def infopage():\n",
    "    ef = Toplevel()\n",
    "    ef.geometry('1010x600+250+100')\n",
    "    ef.title('Contact Information')\n",
    "    ef.resizable(0, 0)\n",
    "\n",
    "    pht = PhotoImage(file=\"info.png\")\n",
    "    label = Label(ef, image=pht)\n",
    "    label.pack()\n",
    "\n",
    "    mainloop()"
   ]
  },
  {
   "cell_type": "markdown",
   "metadata": {},
   "source": [
    "## Input Page "
   ]
  },
  {
   "cell_type": "code",
   "execution_count": 12,
   "metadata": {},
   "outputs": [],
   "source": [
    "def inputpage():\n",
    "    ef = Toplevel()\n",
    "    ef.geometry('1010x600+250+100')\n",
    "    ef.title('Contact Information')\n",
    "    ef.resizable(0, 0)\n",
    "\n",
    "    pht = PhotoImage(file=\"input.png\")\n",
    "    label = Label(ef, image=pht)\n",
    "    label.pack()\n",
    "    \n",
    "    global username\n",
    "    username = StringVar()\n",
    "    username_txt = Entry(ef, textvar=username,bg='#143628', fg='#e3c322', relief='flat', width=24, font=('Open Sans', 25, 'bold'))\n",
    "    username_txt.place(x=322, y=206)\n",
    "    \n",
    "    global password\n",
    "    password = StringVar()\n",
    "    password_txt = Entry(ef, textvar=password,bg='#143628', fg='#e3c322', show = '*', relief='flat', width=24, font=('Open Sans', 25, 'bold'))\n",
    "    password_txt.place(x=322, y=319)\n",
    "    \n",
    "    btn_addconnects = Button(ef, text=\"Add Connects\",bg='#143628', fg='#e3c322', relief='flat', width=15, font=('Open Sans', 25, 'bold'), command=None)\n",
    "    btn_addconnects.place(x=382, y=422)\n",
    "\n",
    "    mainloop()"
   ]
  },
  {
   "cell_type": "code",
   "execution_count": 19,
   "metadata": {},
   "outputs": [],
   "source": [
    "path = None\n",
    "txtarea = None\n",
    "lst = []\n",
    "def openScreen():\n",
    "    global path\n",
    "    global txtarea\n",
    "    ws = Tk()\n",
    "    ws.title(\"Open Txt File Containing Links To Scrape\")\n",
    "    ws.geometry(\"400x450+550+220\")\n",
    "    ws['bg']='#143628'\n",
    "\n",
    "    txtarea = Text(ws, width=40, height=20)\n",
    "    txtarea.pack(pady=20)\n",
    "    path = Entry(ws)\n",
    "    path.pack(side=LEFT, expand=True, fill=X, padx=20)\n",
    "\n",
    "    Button(\n",
    "        ws, \n",
    "        text=\"Open File\", \n",
    "        command=openFile\n",
    "        ).pack(side=RIGHT, expand=True, fill=X, padx=20)\n",
    "\n",
    "\n",
    "    ws.mainloop()\n",
    "    \n",
    "    \n",
    "def openFile():\n",
    "    global path\n",
    "    global txtarea\n",
    "    tf = filedialog.askopenfilename(\n",
    "        initialdir=\"C:/Users/User/Desktop/\", \n",
    "        title=\"Open Text file\", \n",
    "        filetypes=((\"Text Files\", \"*.txt\"),)\n",
    "        )\n",
    "    path.insert(END, tf)\n",
    "    tf = open(tf)  # or tf = open(tf, 'r')\n",
    "    data = tf.readlines()\n",
    "    for i in data:\n",
    "        lst.append(i)\n",
    "        txtarea.insert(END, i)\n",
    "    tf.close()\n",
    "    messagebox.showinfo('Note','Your Data Will Be Extracted Soon and saved in the downloads directory.')\n",
    "#     newdf = darazScript(lst) Function of daraz script (replaced by md scraping)\n",
    "#     newdf.to_csv('DarazSample.csv') saving datafraem to csv\n",
    "    exit()"
   ]
  },
  {
   "cell_type": "code",
   "execution_count": 20,
   "metadata": {},
   "outputs": [],
   "source": [
    "opening_form()"
   ]
  },
  {
   "cell_type": "code",
   "execution_count": null,
   "metadata": {},
   "outputs": [],
   "source": []
  }
 ],
 "metadata": {
  "kernelspec": {
   "display_name": "Python 3",
   "language": "python",
   "name": "python3"
  },
  "language_info": {
   "codemirror_mode": {
    "name": "ipython",
    "version": 3
   },
   "file_extension": ".py",
   "mimetype": "text/x-python",
   "name": "python",
   "nbconvert_exporter": "python",
   "pygments_lexer": "ipython3",
   "version": "3.8.5"
  }
 },
 "nbformat": 4,
 "nbformat_minor": 4
}
