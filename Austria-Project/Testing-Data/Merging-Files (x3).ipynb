{
 "cells": [
  {
   "cell_type": "code",
   "execution_count": 1,
   "metadata": {},
   "outputs": [],
   "source": [
    "import pandas as pd"
   ]
  },
  {
   "cell_type": "code",
   "execution_count": 2,
   "metadata": {},
   "outputs": [],
   "source": [
    "dt1 = pd.read_csv('Contact-Email-OnFirstPage.csv')\n",
    "dt2 = pd.read_csv('OnlyEmail-OnFirstPage.csv')\n",
    "dt3 = pd.read_csv('328new.csv')"
   ]
  },
  {
   "cell_type": "code",
   "execution_count": 8,
   "metadata": {},
   "outputs": [],
   "source": [
    "del dt3['Unnamed: 0']"
   ]
  },
  {
   "cell_type": "code",
   "execution_count": 9,
   "metadata": {},
   "outputs": [
    {
     "name": "stdout",
     "output_type": "stream",
     "text": [
      "Index(['Website URL', 'Email', 'Contact'], dtype='object')\n",
      "Index(['Website URL', 'Email', 'Contact'], dtype='object')\n",
      "Index(['Website URL', 'Email', 'Contact'], dtype='object')\n"
     ]
    }
   ],
   "source": [
    "print(dt1.columns)\n",
    "print(dt2.columns)\n",
    "print(dt3.columns)"
   ]
  },
  {
   "cell_type": "code",
   "execution_count": 10,
   "metadata": {},
   "outputs": [
    {
     "name": "stderr",
     "output_type": "stream",
     "text": [
      "C:\\Users\\User\\anaconda3\\lib\\site-packages\\pandas\\core\\internals\\construction.py:305: VisibleDeprecationWarning: Creating an ndarray from ragged nested sequences (which is a list-or-tuple of lists-or-tuples-or ndarrays with different lengths or shapes) is deprecated. If you meant to do this, you must specify 'dtype=object' when creating the ndarray\n",
      "  values = np.array([convert(v) for v in values])\n"
     ]
    }
   ],
   "source": [
    "frames = [dt1, dt2, dt3]\n",
    "# res = pd.DataFrame(frames)"
   ]
  },
  {
   "cell_type": "code",
   "execution_count": 13,
   "metadata": {},
   "outputs": [],
   "source": [
    "result = pd.concat(frames)"
   ]
  },
  {
   "cell_type": "code",
   "execution_count": 17,
   "metadata": {},
   "outputs": [
    {
     "data": {
      "text/html": [
       "<div>\n",
       "<style scoped>\n",
       "    .dataframe tbody tr th:only-of-type {\n",
       "        vertical-align: middle;\n",
       "    }\n",
       "\n",
       "    .dataframe tbody tr th {\n",
       "        vertical-align: top;\n",
       "    }\n",
       "\n",
       "    .dataframe thead th {\n",
       "        text-align: right;\n",
       "    }\n",
       "</style>\n",
       "<table border=\"1\" class=\"dataframe\">\n",
       "  <thead>\n",
       "    <tr style=\"text-align: right;\">\n",
       "      <th></th>\n",
       "      <th>Website URL</th>\n",
       "      <th>Email</th>\n",
       "      <th>Contact</th>\n",
       "    </tr>\n",
       "  </thead>\n",
       "  <tbody>\n",
       "    <tr>\n",
       "      <th>0</th>\n",
       "      <td>https://enjoy-decor.at</td>\n",
       "      <td>info@enjoy-decor.at</td>\n",
       "      <td>+43 1 9588 268</td>\n",
       "    </tr>\n",
       "    <tr>\n",
       "      <th>1</th>\n",
       "      <td>https://www.shoepy.at</td>\n",
       "      <td>info@shoepy.at</td>\n",
       "      <td>+436609508777\"</td>\n",
       "    </tr>\n",
       "    <tr>\n",
       "      <th>2</th>\n",
       "      <td>https://bellas-vienna.at</td>\n",
       "      <td>info@bellas-vienna.at</td>\n",
       "      <td>+43 676 6305105&lt;</td>\n",
       "    </tr>\n",
       "    <tr>\n",
       "      <th>3</th>\n",
       "      <td>https://masken24.at</td>\n",
       "      <td>info@masken24.at</td>\n",
       "      <td>+4314170608</td>\n",
       "    </tr>\n",
       "    <tr>\n",
       "      <th>4</th>\n",
       "      <td>https://trumerholz.at</td>\n",
       "      <td>shop@trumerholz.at</td>\n",
       "      <td>+43 621729000</td>\n",
       "    </tr>\n",
       "    <tr>\n",
       "      <th>...</th>\n",
       "      <td>...</td>\n",
       "      <td>...</td>\n",
       "      <td>...</td>\n",
       "    </tr>\n",
       "    <tr>\n",
       "      <th>323</th>\n",
       "      <td>https://www.spruchketten.at/pages/kontakt</td>\n",
       "      <td>NaN</td>\n",
       "      <td>NaN</td>\n",
       "    </tr>\n",
       "    <tr>\n",
       "      <th>324</th>\n",
       "      <td>https://www.spruchketten.at/pages/kontakt</td>\n",
       "      <td>NaN</td>\n",
       "      <td>NaN</td>\n",
       "    </tr>\n",
       "    <tr>\n",
       "      <th>325</th>\n",
       "      <td>https://www.spruchketten.at/pages/kontakt</td>\n",
       "      <td>NaN</td>\n",
       "      <td>NaN</td>\n",
       "    </tr>\n",
       "    <tr>\n",
       "      <th>326</th>\n",
       "      <td>https://www.hundeliebling.at/pages/kontakt</td>\n",
       "      <td>info@hundeliebling.at</td>\n",
       "      <td>NaN</td>\n",
       "    </tr>\n",
       "    <tr>\n",
       "      <th>327</th>\n",
       "      <td>https://royalkitten.at/pages/kontakt</td>\n",
       "      <td>NaN</td>\n",
       "      <td>NaN</td>\n",
       "    </tr>\n",
       "  </tbody>\n",
       "</table>\n",
       "<p>564 rows × 3 columns</p>\n",
       "</div>"
      ],
      "text/plain": [
       "                                    Website URL                  Email  \\\n",
       "0                        https://enjoy-decor.at    info@enjoy-decor.at   \n",
       "1                         https://www.shoepy.at         info@shoepy.at   \n",
       "2                      https://bellas-vienna.at  info@bellas-vienna.at   \n",
       "3                           https://masken24.at       info@masken24.at   \n",
       "4                         https://trumerholz.at     shop@trumerholz.at   \n",
       "..                                          ...                    ...   \n",
       "323   https://www.spruchketten.at/pages/kontakt                    NaN   \n",
       "324   https://www.spruchketten.at/pages/kontakt                    NaN   \n",
       "325   https://www.spruchketten.at/pages/kontakt                    NaN   \n",
       "326  https://www.hundeliebling.at/pages/kontakt  info@hundeliebling.at   \n",
       "327        https://royalkitten.at/pages/kontakt                    NaN   \n",
       "\n",
       "              Contact  \n",
       "0      +43 1 9588 268  \n",
       "1      +436609508777\"  \n",
       "2    +43 676 6305105<  \n",
       "3        +4314170608   \n",
       "4      +43 621729000   \n",
       "..                ...  \n",
       "323               NaN  \n",
       "324               NaN  \n",
       "325               NaN  \n",
       "326               NaN  \n",
       "327               NaN  \n",
       "\n",
       "[564 rows x 3 columns]"
      ]
     },
     "execution_count": 17,
     "metadata": {},
     "output_type": "execute_result"
    }
   ],
   "source": [
    "result"
   ]
  },
  {
   "cell_type": "code",
   "execution_count": 19,
   "metadata": {},
   "outputs": [],
   "source": [
    "finalDF = result.dropna(thresh=2)"
   ]
  },
  {
   "cell_type": "code",
   "execution_count": 20,
   "metadata": {},
   "outputs": [
    {
     "data": {
      "text/plain": [
       "(436, 3)"
      ]
     },
     "execution_count": 20,
     "metadata": {},
     "output_type": "execute_result"
    }
   ],
   "source": [
    "finalDF.shape"
   ]
  },
  {
   "cell_type": "code",
   "execution_count": 21,
   "metadata": {},
   "outputs": [
    {
     "data": {
      "text/html": [
       "<div>\n",
       "<style scoped>\n",
       "    .dataframe tbody tr th:only-of-type {\n",
       "        vertical-align: middle;\n",
       "    }\n",
       "\n",
       "    .dataframe tbody tr th {\n",
       "        vertical-align: top;\n",
       "    }\n",
       "\n",
       "    .dataframe thead th {\n",
       "        text-align: right;\n",
       "    }\n",
       "</style>\n",
       "<table border=\"1\" class=\"dataframe\">\n",
       "  <thead>\n",
       "    <tr style=\"text-align: right;\">\n",
       "      <th></th>\n",
       "      <th>Website URL</th>\n",
       "      <th>Email</th>\n",
       "      <th>Contact</th>\n",
       "    </tr>\n",
       "  </thead>\n",
       "  <tbody>\n",
       "    <tr>\n",
       "      <th>0</th>\n",
       "      <td>https://enjoy-decor.at</td>\n",
       "      <td>info@enjoy-decor.at</td>\n",
       "      <td>+43 1 9588 268</td>\n",
       "    </tr>\n",
       "    <tr>\n",
       "      <th>1</th>\n",
       "      <td>https://www.shoepy.at</td>\n",
       "      <td>info@shoepy.at</td>\n",
       "      <td>+436609508777\"</td>\n",
       "    </tr>\n",
       "    <tr>\n",
       "      <th>2</th>\n",
       "      <td>https://bellas-vienna.at</td>\n",
       "      <td>info@bellas-vienna.at</td>\n",
       "      <td>+43 676 6305105&lt;</td>\n",
       "    </tr>\n",
       "    <tr>\n",
       "      <th>3</th>\n",
       "      <td>https://masken24.at</td>\n",
       "      <td>info@masken24.at</td>\n",
       "      <td>+4314170608</td>\n",
       "    </tr>\n",
       "    <tr>\n",
       "      <th>4</th>\n",
       "      <td>https://trumerholz.at</td>\n",
       "      <td>shop@trumerholz.at</td>\n",
       "      <td>+43 621729000</td>\n",
       "    </tr>\n",
       "    <tr>\n",
       "      <th>...</th>\n",
       "      <td>...</td>\n",
       "      <td>...</td>\n",
       "      <td>...</td>\n",
       "    </tr>\n",
       "    <tr>\n",
       "      <th>316</th>\n",
       "      <td>https://woll-habitat-shop.at/pages/kontakt</td>\n",
       "      <td>wolle@woll-habitat.at</td>\n",
       "      <td>NaN</td>\n",
       "    </tr>\n",
       "    <tr>\n",
       "      <th>318</th>\n",
       "      <td>https://www.zeitholzwatches.at/pages/contact-us-1</td>\n",
       "      <td>contact@zeitholzwat</td>\n",
       "      <td>NaN</td>\n",
       "    </tr>\n",
       "    <tr>\n",
       "      <th>321</th>\n",
       "      <td>https://www.gigaglide.com/#contact</td>\n",
       "      <td>NaN</td>\n",
       "      <td>+4366488101196\"</td>\n",
       "    </tr>\n",
       "    <tr>\n",
       "      <th>322</th>\n",
       "      <td>https://www.mannas.at/pages/test</td>\n",
       "      <td>NaN</td>\n",
       "      <td>+43 677 64169794&lt;</td>\n",
       "    </tr>\n",
       "    <tr>\n",
       "      <th>326</th>\n",
       "      <td>https://www.hundeliebling.at/pages/kontakt</td>\n",
       "      <td>info@hundeliebling.at</td>\n",
       "      <td>NaN</td>\n",
       "    </tr>\n",
       "  </tbody>\n",
       "</table>\n",
       "<p>436 rows × 3 columns</p>\n",
       "</div>"
      ],
      "text/plain": [
       "                                           Website URL                  Email  \\\n",
       "0                               https://enjoy-decor.at    info@enjoy-decor.at   \n",
       "1                                https://www.shoepy.at         info@shoepy.at   \n",
       "2                             https://bellas-vienna.at  info@bellas-vienna.at   \n",
       "3                                  https://masken24.at       info@masken24.at   \n",
       "4                                https://trumerholz.at     shop@trumerholz.at   \n",
       "..                                                 ...                    ...   \n",
       "316         https://woll-habitat-shop.at/pages/kontakt  wolle@woll-habitat.at   \n",
       "318  https://www.zeitholzwatches.at/pages/contact-us-1    contact@zeitholzwat   \n",
       "321                 https://www.gigaglide.com/#contact                    NaN   \n",
       "322                   https://www.mannas.at/pages/test                    NaN   \n",
       "326         https://www.hundeliebling.at/pages/kontakt  info@hundeliebling.at   \n",
       "\n",
       "               Contact  \n",
       "0       +43 1 9588 268  \n",
       "1       +436609508777\"  \n",
       "2     +43 676 6305105<  \n",
       "3         +4314170608   \n",
       "4       +43 621729000   \n",
       "..                 ...  \n",
       "316                NaN  \n",
       "318                NaN  \n",
       "321    +4366488101196\"  \n",
       "322  +43 677 64169794<  \n",
       "326                NaN  \n",
       "\n",
       "[436 rows x 3 columns]"
      ]
     },
     "execution_count": 21,
     "metadata": {},
     "output_type": "execute_result"
    }
   ],
   "source": [
    "finalDF"
   ]
  },
  {
   "cell_type": "code",
   "execution_count": 29,
   "metadata": {},
   "outputs": [],
   "source": [
    "finalDF.reset_index(drop=True, inplace=True)"
   ]
  },
  {
   "cell_type": "code",
   "execution_count": 64,
   "metadata": {
    "scrolled": true
   },
   "outputs": [
    {
     "data": {
      "text/html": [
       "<div>\n",
       "<style scoped>\n",
       "    .dataframe tbody tr th:only-of-type {\n",
       "        vertical-align: middle;\n",
       "    }\n",
       "\n",
       "    .dataframe tbody tr th {\n",
       "        vertical-align: top;\n",
       "    }\n",
       "\n",
       "    .dataframe thead th {\n",
       "        text-align: right;\n",
       "    }\n",
       "</style>\n",
       "<table border=\"1\" class=\"dataframe\">\n",
       "  <thead>\n",
       "    <tr style=\"text-align: right;\">\n",
       "      <th></th>\n",
       "      <th>Website URL</th>\n",
       "      <th>Email</th>\n",
       "      <th>Contact</th>\n",
       "    </tr>\n",
       "  </thead>\n",
       "  <tbody>\n",
       "    <tr>\n",
       "      <th>0</th>\n",
       "      <td>https://enjoy-decor.at</td>\n",
       "      <td>info@enjoy-decor.at</td>\n",
       "      <td>+43 1 9588 268</td>\n",
       "    </tr>\n",
       "    <tr>\n",
       "      <th>1</th>\n",
       "      <td>https://www.shoepy.at</td>\n",
       "      <td>info@shoepy.at</td>\n",
       "      <td>+436609508777\"</td>\n",
       "    </tr>\n",
       "    <tr>\n",
       "      <th>2</th>\n",
       "      <td>https://bellas-vienna.at</td>\n",
       "      <td>info@bellas-vienna.at</td>\n",
       "      <td>+43 676 6305105&lt;</td>\n",
       "    </tr>\n",
       "    <tr>\n",
       "      <th>3</th>\n",
       "      <td>https://masken24.at</td>\n",
       "      <td>info@masken24.at</td>\n",
       "      <td>+4314170608</td>\n",
       "    </tr>\n",
       "    <tr>\n",
       "      <th>4</th>\n",
       "      <td>https://trumerholz.at</td>\n",
       "      <td>shop@trumerholz.at</td>\n",
       "      <td>+43 621729000</td>\n",
       "    </tr>\n",
       "    <tr>\n",
       "      <th>...</th>\n",
       "      <td>...</td>\n",
       "      <td>...</td>\n",
       "      <td>...</td>\n",
       "    </tr>\n",
       "    <tr>\n",
       "      <th>431</th>\n",
       "      <td>https://woll-habitat-shop.at/pages/kontakt</td>\n",
       "      <td>wolle@woll-habitat.at</td>\n",
       "      <td>NaN</td>\n",
       "    </tr>\n",
       "    <tr>\n",
       "      <th>432</th>\n",
       "      <td>https://www.zeitholzwatches.at/pages/contact-us-1</td>\n",
       "      <td>contact@zeitholzwat</td>\n",
       "      <td>NaN</td>\n",
       "    </tr>\n",
       "    <tr>\n",
       "      <th>433</th>\n",
       "      <td>https://www.gigaglide.com/#contact</td>\n",
       "      <td>NaN</td>\n",
       "      <td>+4366488101196\"</td>\n",
       "    </tr>\n",
       "    <tr>\n",
       "      <th>434</th>\n",
       "      <td>https://www.mannas.at/pages/test</td>\n",
       "      <td>NaN</td>\n",
       "      <td>+43 677 64169794&lt;</td>\n",
       "    </tr>\n",
       "    <tr>\n",
       "      <th>435</th>\n",
       "      <td>https://www.hundeliebling.at/pages/kontakt</td>\n",
       "      <td>info@hundeliebling.at</td>\n",
       "      <td>NaN</td>\n",
       "    </tr>\n",
       "  </tbody>\n",
       "</table>\n",
       "<p>436 rows × 3 columns</p>\n",
       "</div>"
      ],
      "text/plain": [
       "                                           Website URL                  Email  \\\n",
       "0                               https://enjoy-decor.at    info@enjoy-decor.at   \n",
       "1                                https://www.shoepy.at         info@shoepy.at   \n",
       "2                             https://bellas-vienna.at  info@bellas-vienna.at   \n",
       "3                                  https://masken24.at       info@masken24.at   \n",
       "4                                https://trumerholz.at     shop@trumerholz.at   \n",
       "..                                                 ...                    ...   \n",
       "431         https://woll-habitat-shop.at/pages/kontakt  wolle@woll-habitat.at   \n",
       "432  https://www.zeitholzwatches.at/pages/contact-us-1    contact@zeitholzwat   \n",
       "433                 https://www.gigaglide.com/#contact                    NaN   \n",
       "434                   https://www.mannas.at/pages/test                    NaN   \n",
       "435         https://www.hundeliebling.at/pages/kontakt  info@hundeliebling.at   \n",
       "\n",
       "               Contact  \n",
       "0       +43 1 9588 268  \n",
       "1       +436609508777\"  \n",
       "2     +43 676 6305105<  \n",
       "3         +4314170608   \n",
       "4       +43 621729000   \n",
       "..                 ...  \n",
       "431                NaN  \n",
       "432                NaN  \n",
       "433    +4366488101196\"  \n",
       "434  +43 677 64169794<  \n",
       "435                NaN  \n",
       "\n",
       "[436 rows x 3 columns]"
      ]
     },
     "execution_count": 64,
     "metadata": {},
     "output_type": "execute_result"
    }
   ],
   "source": [
    "finalDF"
   ]
  },
  {
   "cell_type": "code",
   "execution_count": null,
   "metadata": {},
   "outputs": [],
   "source": []
  }
 ],
 "metadata": {
  "kernelspec": {
   "display_name": "Python 3",
   "language": "python",
   "name": "python3"
  },
  "language_info": {
   "codemirror_mode": {
    "name": "ipython",
    "version": 3
   },
   "file_extension": ".py",
   "mimetype": "text/x-python",
   "name": "python",
   "nbconvert_exporter": "python",
   "pygments_lexer": "ipython3",
   "version": "3.8.5"
  }
 },
 "nbformat": 4,
 "nbformat_minor": 4
}
