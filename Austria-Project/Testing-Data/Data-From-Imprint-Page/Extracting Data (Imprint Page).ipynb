{
 "cells": [
  {
   "cell_type": "code",
   "execution_count": 1,
   "metadata": {},
   "outputs": [],
   "source": [
    "from selenium import webdriver\n",
    "from selenium.webdriver.common.keys import Keys\n",
    "from selenium.webdriver.common.by import By\n",
    "from selenium.webdriver.support.ui import WebDriverWait\n",
    "import time\n",
    "import numpy as np\n",
    "import pandas as pd"
   ]
  },
  {
   "cell_type": "code",
   "execution_count": 2,
   "metadata": {},
   "outputs": [],
   "source": [
    "df = pd.read_excel('20210512_Domains.xlsx')"
   ]
  },
  {
   "cell_type": "code",
   "execution_count": 3,
   "metadata": {},
   "outputs": [
    {
     "data": {
      "text/plain": [
       "0               https://enjoy-decor.at\n",
       "1                   https://myshopp.at\n",
       "2              https://www.spirulix.at\n",
       "3                   https://senkels.at\n",
       "4                 https://luckyhemp.at\n",
       "                    ...               \n",
       "886              http://wingedword.com\n",
       "887    http://wingedwordsjewellery.com\n",
       "888      http://wingedwordsjewelry.com\n",
       "889            http://happydogstore.de\n",
       "890              http://royalkitten.de\n",
       "Name: url, Length: 891, dtype: object"
      ]
     },
     "execution_count": 3,
     "metadata": {},
     "output_type": "execute_result"
    }
   ],
   "source": [
    "df['url']"
   ]
  },
  {
   "cell_type": "code",
   "execution_count": 4,
   "metadata": {},
   "outputs": [
    {
     "name": "stderr",
     "output_type": "stream",
     "text": [
      "<ipython-input-4-d775d09ac6a3>:3: DeprecationWarning: use options instead of chrome_options\n",
      "  driver = webdriver.Chrome('C:\\chromedriver_win32\\chromedriver.exe',chrome_options=chrome_options)\n"
     ]
    }
   ],
   "source": [
    "chrome_options = webdriver.ChromeOptions()\n",
    "chrome_options.add_argument(\"--incognito\")\n",
    "driver = webdriver.Chrome('C:\\chromedriver_win32\\chromedriver.exe',chrome_options=chrome_options)\n",
    "driver.implicitly_wait(2)"
   ]
  },
  {
   "cell_type": "code",
   "execution_count": 5,
   "metadata": {},
   "outputs": [
    {
     "name": "stdout",
     "output_type": "stream",
     "text": [
      "Runtime of the program is 6703.174671649933\n"
     ]
    }
   ],
   "source": [
    "activeLinks = []\n",
    "# starting time\n",
    "start = time.time()\n",
    "for i in range(len(df)):\n",
    "    time.sleep(1)\n",
    "    try:\n",
    "        driver.get(df['url'][i])\n",
    "        driver.implicitly_wait(5)\n",
    "        activeLinks.append(df['url'][i])\n",
    "    except:\n",
    "        pass\n",
    "# ----------------------------\n",
    "# Ending Time\n",
    "end = time.time()\n",
    "# Total Time Taken\n",
    "print(f\"Runtime of the program is {end - start}\")"
   ]
  },
  {
   "cell_type": "code",
   "execution_count": 8,
   "metadata": {},
   "outputs": [
    {
     "data": {
      "text/plain": [
       "862"
      ]
     },
     "execution_count": 8,
     "metadata": {},
     "output_type": "execute_result"
    }
   ],
   "source": [
    "len(activeLinks)"
   ]
  },
  {
   "cell_type": "code",
   "execution_count": 9,
   "metadata": {},
   "outputs": [],
   "source": [
    "data = pd.DataFrame(columns=['Active Links'])\n",
    "for i in activeLinks:\n",
    "    data = data.append({'Active Links': i}, ignore_index = True)"
   ]
  },
  {
   "cell_type": "code",
   "execution_count": 12,
   "metadata": {},
   "outputs": [],
   "source": [
    "data.to_csv('activeLinks.csv')"
   ]
  },
  {
   "cell_type": "markdown",
   "metadata": {},
   "source": [
    "### Collecting Imprint Pages (From All Active URLs)"
   ]
  },
  {
   "cell_type": "code",
   "execution_count": 2,
   "metadata": {},
   "outputs": [],
   "source": [
    "df = pd.read_csv('activeLinks.csv')"
   ]
  },
  {
   "cell_type": "code",
   "execution_count": 3,
   "metadata": {},
   "outputs": [],
   "source": [
    "del df['Unnamed: 0']"
   ]
  },
  {
   "cell_type": "code",
   "execution_count": 4,
   "metadata": {},
   "outputs": [],
   "source": [
    "activelinks = list(df)"
   ]
  },
  {
   "cell_type": "code",
   "execution_count": 5,
   "metadata": {},
   "outputs": [],
   "source": [
    "activeLinks = []\n",
    "for i in df['Active Links']:\n",
    "    activeLinks.append(i)"
   ]
  },
  {
   "cell_type": "code",
   "execution_count": 6,
   "metadata": {},
   "outputs": [
    {
     "data": {
      "text/plain": [
       "862"
      ]
     },
     "execution_count": 6,
     "metadata": {},
     "output_type": "execute_result"
    }
   ],
   "source": [
    "len(activeLinks)"
   ]
  },
  {
   "cell_type": "code",
   "execution_count": 7,
   "metadata": {},
   "outputs": [
    {
     "data": {
      "text/plain": [
       "'http://eleder.at'"
      ]
     },
     "execution_count": 7,
     "metadata": {},
     "output_type": "execute_result"
    }
   ],
   "source": [
    "activeLinks[459]"
   ]
  },
  {
   "cell_type": "code",
   "execution_count": 9,
   "metadata": {},
   "outputs": [
    {
     "name": "stderr",
     "output_type": "stream",
     "text": [
      "<ipython-input-9-d775d09ac6a3>:3: DeprecationWarning: use options instead of chrome_options\n",
      "  driver = webdriver.Chrome('C:\\chromedriver_win32\\chromedriver.exe',chrome_options=chrome_options)\n"
     ]
    }
   ],
   "source": [
    "chrome_options = webdriver.ChromeOptions()\n",
    "chrome_options.add_argument(\"--incognito\")\n",
    "driver = webdriver.Chrome('C:\\chromedriver_win32\\chromedriver.exe',chrome_options=chrome_options)\n",
    "driver.implicitly_wait(2)"
   ]
  },
  {
   "cell_type": "code",
   "execution_count": 13,
   "metadata": {},
   "outputs": [
    {
     "data": {
      "text/plain": [
       "'http://bonnieleggings.at'"
      ]
     },
     "execution_count": 13,
     "metadata": {},
     "output_type": "execute_result"
    }
   ],
   "source": [
    "activeLinks[400]"
   ]
  },
  {
   "cell_type": "code",
   "execution_count": 17,
   "metadata": {
    "scrolled": true
   },
   "outputs": [
    {
     "name": "stdout",
     "output_type": "stream",
     "text": [
      "------------------------------------------------\n",
      " Link :  846\n",
      "------------------------------------------------\n",
      "------------------------------------------------\n",
      " Link :  847\n",
      "------------------------------------------------\n",
      "------------------------------------------------\n",
      " Link :  848\n",
      "------------------------------------------------\n",
      "------------------------------------------------\n",
      " Link :  849\n",
      "------------------------------------------------\n",
      "------------------------------------------------\n",
      " Link :  850\n",
      "------------------------------------------------\n",
      "------------------------------------------------\n",
      " Link :  851\n",
      "------------------------------------------------\n",
      "------------------------------------------------\n",
      " Link :  852\n",
      "------------------------------------------------\n",
      "------------------------------------------------\n",
      " Link :  853\n",
      "------------------------------------------------\n",
      "------------------------------------------------\n",
      " Link :  854\n",
      "------------------------------------------------\n",
      "------------------------------------------------\n",
      " Link :  855\n",
      "------------------------------------------------\n",
      "------------------------------------------------\n",
      " Link :  856\n",
      "------------------------------------------------\n",
      "------------------------------------------------\n",
      " Link :  857\n",
      "------------------------------------------------\n",
      "------------------------------------------------\n",
      " Link :  858\n",
      "------------------------------------------------\n",
      "------------------------------------------------\n",
      " Link :  859\n",
      "------------------------------------------------\n",
      "------------------------------------------------\n",
      " Link :  860\n",
      "------------------------------------------------\n",
      "------------------------------------------------\n",
      " Link :  861\n",
      "------------------------------------------------\n"
     ]
    }
   ],
   "source": [
    "# linksImprintPages = []\n",
    "# imprintPageNotFound = []\n",
    "for i in range(846, len(activeLinks)):\n",
    "    print('------------------------------------------------')\n",
    "    print(' Link : ', i)\n",
    "    print('------------------------------------------------')\n",
    "    driver.get(activeLinks[i])\n",
    "    time.sleep(2)\n",
    "    try:\n",
    "        try:\n",
    "            p1 = driver.find_elements_by_partial_link_text('Impressum')\n",
    "            for pp in p1:\n",
    "                linksImprintPages.append(pp.get_attribute('href'))\n",
    "        except:\n",
    "            p1 = driver.find_elements_by_partial_link_text('IMPRESSUM')\n",
    "            for pp in p1:\n",
    "                linksImprintPages.append(pp.get_attribute('href'))\n",
    "    except:\n",
    "        imprintPageNotFound.append(activeLinks[i])"
   ]
  },
  {
   "cell_type": "code",
   "execution_count": 18,
   "metadata": {},
   "outputs": [
    {
     "data": {
      "text/plain": [
       "479"
      ]
     },
     "execution_count": 18,
     "metadata": {},
     "output_type": "execute_result"
    }
   ],
   "source": [
    "len(linksImprintPages)"
   ]
  },
  {
   "cell_type": "code",
   "execution_count": 19,
   "metadata": {},
   "outputs": [
    {
     "data": {
      "text/plain": [
       "'https://www.wicks.at/policies/legal-notice'"
      ]
     },
     "execution_count": 19,
     "metadata": {},
     "output_type": "execute_result"
    }
   ],
   "source": [
    "linksImprintPages[455]"
   ]
  },
  {
   "cell_type": "code",
   "execution_count": null,
   "metadata": {},
   "outputs": [],
   "source": []
  }
 ],
 "metadata": {
  "kernelspec": {
   "display_name": "Python 3",
   "language": "python",
   "name": "python3"
  },
  "language_info": {
   "codemirror_mode": {
    "name": "ipython",
    "version": 3
   },
   "file_extension": ".py",
   "mimetype": "text/x-python",
   "name": "python",
   "nbconvert_exporter": "python",
   "pygments_lexer": "ipython3",
   "version": "3.8.5"
  }
 },
 "nbformat": 4,
 "nbformat_minor": 4
}
