{
 "cells": [
  {
   "cell_type": "code",
   "execution_count": 1,
   "metadata": {},
   "outputs": [],
   "source": [
    "#Importing Libraries\n",
    "from selenium import webdriver\n",
    "from selenium.webdriver.common.keys import Keys\n",
    "from selenium.webdriver.support.ui import WebDriverWait\n",
    "import time\n",
    "import pandas as pd\n",
    "from bs4 import BeautifulSoup\n",
    "from selenium.webdriver.common.by import By\n",
    "import re"
   ]
  },
  {
   "cell_type": "code",
   "execution_count": 2,
   "metadata": {},
   "outputs": [
    {
     "name": "stderr",
     "output_type": "stream",
     "text": [
      "<ipython-input-2-67ac4d6ba8be>:3: DeprecationWarning: use options instead of chrome_options\n",
      "  driver = webdriver.Chrome('C:\\chromedriver_win32\\chromedriver.exe',chrome_options=chrome_options)\n"
     ]
    }
   ],
   "source": [
    "chrome_options = webdriver.ChromeOptions()\n",
    "chrome_options.add_argument('--incognito')\n",
    "driver = webdriver.Chrome('C:\\chromedriver_win32\\chromedriver.exe',chrome_options=chrome_options)\n",
    "driver.implicitly_wait(2)"
   ]
  },
  {
   "cell_type": "code",
   "execution_count": 3,
   "metadata": {},
   "outputs": [],
   "source": [
    "driver.get('https://der-apotheker.at/pages/uber-uns')"
   ]
  },
  {
   "cell_type": "code",
   "execution_count": 5,
   "metadata": {},
   "outputs": [
    {
     "name": "stdout",
     "output_type": "stream",
     "text": [
      "DR. KLAUS SCHIRMER, FIRMENINHABER\n"
     ]
    }
   ],
   "source": [
    "content  = driver.find_element_by_xpath(\"//div[@class='PageContent']\")\n",
    "owner = content.find_element_by_tag_name('h3')\n",
    "print(owner.text)"
   ]
  },
  {
   "cell_type": "code",
   "execution_count": null,
   "metadata": {},
   "outputs": [],
   "source": [
    "# # Sample Script For Traversinf About Page For Websites\n",
    "aboutlnk = []\n",
    "for i in range(len(lst_NoContFound)):\n",
    "    print('------------------------------------------------')\n",
    "    print(' Link : ', i)\n",
    "    print('------------------------------------------------')\n",
    "    driver.get(lst_NoContFound[i])\n",
    "    time.sleep(2)\n",
    "    try:\n",
    "        p1 = driver.find_elements_by_partial_link_text('Über Uns')\n",
    "        for pp in p1:\n",
    "            aboutlnk.append(pp.get_attribute('href'))\n",
    "            \n",
    "        print('------------------------------------------------')\n",
    "    except:\n",
    "        p1 = driver.find_elements_by_partial_link_text('ÜBER UNS')\n",
    "        for pp in p1:\n",
    "            aboutlnk.append(pp.get_attribute('href'))\n",
    "        print('------------------------------------------------')"
   ]
  }
 ],
 "metadata": {
  "kernelspec": {
   "display_name": "Python 3",
   "language": "python",
   "name": "python3"
  },
  "language_info": {
   "codemirror_mode": {
    "name": "ipython",
    "version": 3
   },
   "file_extension": ".py",
   "mimetype": "text/x-python",
   "name": "python",
   "nbconvert_exporter": "python",
   "pygments_lexer": "ipython3",
   "version": "3.8.5"
  }
 },
 "nbformat": 4,
 "nbformat_minor": 4
}
